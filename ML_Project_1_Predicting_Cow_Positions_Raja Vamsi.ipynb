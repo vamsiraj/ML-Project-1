{
  "nbformat": 4,
  "nbformat_minor": 0,
  "metadata": {
    "colab": {
      "provenance": [],
      "collapsed_sections": []
    },
    "kernelspec": {
      "name": "python3",
      "display_name": "Python 3"
    },
    "language_info": {
      "name": "python"
    }
  },
  "cells": [
    {
      "cell_type": "code",
      "execution_count": 1,
      "metadata": {
        "id": "9jXnD-nOksJI"
      },
      "outputs": [],
      "source": [
        "#Importing the required libraries\n",
        "import numpy as np\n",
        "import pandas as pd\n",
        "import matplotlib.pyplot as plt\n",
        "import seaborn as sns\n",
        "%matplotlib inline\n",
        "import warnings\n",
        "warnings.filterwarnings('ignore')"
      ]
    },
    {
      "cell_type": "code",
      "source": [
        "#Mounting google drive\n",
        "from google.colab import drive\n",
        "drive.mount('/content/drive/')"
      ],
      "metadata": {
        "colab": {
          "base_uri": "https://localhost:8080/"
        },
        "id": "xf8GnaThYwbp",
        "outputId": "9feec70d-aa6b-4d2f-948e-04a2510bc28a"
      },
      "execution_count": 2,
      "outputs": [
        {
          "output_type": "stream",
          "name": "stdout",
          "text": [
            "Mounted at /content/drive/\n"
          ]
        }
      ]
    },
    {
      "cell_type": "code",
      "source": [
        "#Loading the data from Google drive\n",
        "drinking = pd.read_csv('/content/drive/MyDrive/Classify cow positions using Machine Learning/D2_train.csv')\n",
        "eating = pd.read_csv('/content/drive/MyDrive/Classify cow positions using Machine Learning/E1_train.csv')\n",
        "walking = pd.read_csv('/content/drive/MyDrive/Classify cow positions using Machine Learning/W3_train.csv')\n",
        "grooming = pd.read_csv('/content/drive/MyDrive/Classify cow positions using Machine Learning/G8_train.csv')\n",
        "idle = pd.read_csv('/content/drive/MyDrive/Classify cow positions using Machine Learning/I9_train.csv')\n",
        "lying = pd.read_csv('/content/drive/MyDrive/Classify cow positions using Machine Learning/L5_train.csv')\n",
        "ruminating_lying = pd.read_csv('/content/drive/MyDrive/Classify cow positions using Machine Learning/RL7_train.csv')\n",
        "ruminating_standing = pd.read_csv('/content/drive/MyDrive/Classify cow positions using Machine Learning/RS6_train.csv')\n",
        "standing = pd.read_csv('/content/drive/MyDrive/Classify cow positions using Machine Learning/S4_train.csv')"
      ],
      "metadata": {
        "id": "IoCstdbHk7Uk"
      },
      "execution_count": 3,
      "outputs": []
    },
    {
      "cell_type": "code",
      "source": [
        "#Concatening all the csv files\n",
        "df = pd.concat([drinking,eating,walking,grooming,idle,lying,ruminating_lying,ruminating_standing,standing])"
      ],
      "metadata": {
        "id": "qA_gqnv7pcJ-"
      },
      "execution_count": 4,
      "outputs": []
    },
    {
      "cell_type": "code",
      "source": [
        "#viewing the top 5 rows of concatenated dataset\n",
        "df.head()"
      ],
      "metadata": {
        "colab": {
          "base_uri": "https://localhost:8080/",
          "height": 206
        },
        "id": "Itvi32ZP3LSz",
        "outputId": "04d81b1b-0375-4e59-8529-536aa39ef7b2"
      },
      "execution_count": 5,
      "outputs": [
        {
          "output_type": "execute_result",
          "data": {
            "text/plain": [
              "         time     acc_x     acc_y     acc_z      gyr_x      gyr_y      gyr_z  \\\n",
              "0  1628079761 -0.187012  1.071289  0.321289   7.934570 -40.527344  17.028809   \n",
              "1  1628079761 -0.137207  1.099121  0.294922   0.305176 -44.677734  15.930176   \n",
              "2  1628079761  0.028320  1.053711  0.215820  -9.216309 -42.541504  10.681152   \n",
              "3  1628079761  0.151856  0.960938  0.206543 -15.502930 -31.433105   4.943848   \n",
              "4  1628079761  0.171387  0.883301  0.247070  -0.061035 -27.832031  -2.685547   \n",
              "\n",
              "   mag_x   mag_y  mag_z  label  \n",
              "0 -526.5  1437.0  513.0      2  \n",
              "1 -528.0  1423.5  495.0      2  \n",
              "2 -510.0  1419.0  484.5      2  \n",
              "3 -529.5  1428.0  496.5      2  \n",
              "4 -526.5  1420.5  505.5      2  "
            ],
            "text/html": [
              "\n",
              "  <div id=\"df-d2b175a4-8c18-4bee-a49b-381404b0a1df\">\n",
              "    <div class=\"colab-df-container\">\n",
              "      <div>\n",
              "<style scoped>\n",
              "    .dataframe tbody tr th:only-of-type {\n",
              "        vertical-align: middle;\n",
              "    }\n",
              "\n",
              "    .dataframe tbody tr th {\n",
              "        vertical-align: top;\n",
              "    }\n",
              "\n",
              "    .dataframe thead th {\n",
              "        text-align: right;\n",
              "    }\n",
              "</style>\n",
              "<table border=\"1\" class=\"dataframe\">\n",
              "  <thead>\n",
              "    <tr style=\"text-align: right;\">\n",
              "      <th></th>\n",
              "      <th>time</th>\n",
              "      <th>acc_x</th>\n",
              "      <th>acc_y</th>\n",
              "      <th>acc_z</th>\n",
              "      <th>gyr_x</th>\n",
              "      <th>gyr_y</th>\n",
              "      <th>gyr_z</th>\n",
              "      <th>mag_x</th>\n",
              "      <th>mag_y</th>\n",
              "      <th>mag_z</th>\n",
              "      <th>label</th>\n",
              "    </tr>\n",
              "  </thead>\n",
              "  <tbody>\n",
              "    <tr>\n",
              "      <th>0</th>\n",
              "      <td>1628079761</td>\n",
              "      <td>-0.187012</td>\n",
              "      <td>1.071289</td>\n",
              "      <td>0.321289</td>\n",
              "      <td>7.934570</td>\n",
              "      <td>-40.527344</td>\n",
              "      <td>17.028809</td>\n",
              "      <td>-526.5</td>\n",
              "      <td>1437.0</td>\n",
              "      <td>513.0</td>\n",
              "      <td>2</td>\n",
              "    </tr>\n",
              "    <tr>\n",
              "      <th>1</th>\n",
              "      <td>1628079761</td>\n",
              "      <td>-0.137207</td>\n",
              "      <td>1.099121</td>\n",
              "      <td>0.294922</td>\n",
              "      <td>0.305176</td>\n",
              "      <td>-44.677734</td>\n",
              "      <td>15.930176</td>\n",
              "      <td>-528.0</td>\n",
              "      <td>1423.5</td>\n",
              "      <td>495.0</td>\n",
              "      <td>2</td>\n",
              "    </tr>\n",
              "    <tr>\n",
              "      <th>2</th>\n",
              "      <td>1628079761</td>\n",
              "      <td>0.028320</td>\n",
              "      <td>1.053711</td>\n",
              "      <td>0.215820</td>\n",
              "      <td>-9.216309</td>\n",
              "      <td>-42.541504</td>\n",
              "      <td>10.681152</td>\n",
              "      <td>-510.0</td>\n",
              "      <td>1419.0</td>\n",
              "      <td>484.5</td>\n",
              "      <td>2</td>\n",
              "    </tr>\n",
              "    <tr>\n",
              "      <th>3</th>\n",
              "      <td>1628079761</td>\n",
              "      <td>0.151856</td>\n",
              "      <td>0.960938</td>\n",
              "      <td>0.206543</td>\n",
              "      <td>-15.502930</td>\n",
              "      <td>-31.433105</td>\n",
              "      <td>4.943848</td>\n",
              "      <td>-529.5</td>\n",
              "      <td>1428.0</td>\n",
              "      <td>496.5</td>\n",
              "      <td>2</td>\n",
              "    </tr>\n",
              "    <tr>\n",
              "      <th>4</th>\n",
              "      <td>1628079761</td>\n",
              "      <td>0.171387</td>\n",
              "      <td>0.883301</td>\n",
              "      <td>0.247070</td>\n",
              "      <td>-0.061035</td>\n",
              "      <td>-27.832031</td>\n",
              "      <td>-2.685547</td>\n",
              "      <td>-526.5</td>\n",
              "      <td>1420.5</td>\n",
              "      <td>505.5</td>\n",
              "      <td>2</td>\n",
              "    </tr>\n",
              "  </tbody>\n",
              "</table>\n",
              "</div>\n",
              "      <button class=\"colab-df-convert\" onclick=\"convertToInteractive('df-d2b175a4-8c18-4bee-a49b-381404b0a1df')\"\n",
              "              title=\"Convert this dataframe to an interactive table.\"\n",
              "              style=\"display:none;\">\n",
              "        \n",
              "  <svg xmlns=\"http://www.w3.org/2000/svg\" height=\"24px\"viewBox=\"0 0 24 24\"\n",
              "       width=\"24px\">\n",
              "    <path d=\"M0 0h24v24H0V0z\" fill=\"none\"/>\n",
              "    <path d=\"M18.56 5.44l.94 2.06.94-2.06 2.06-.94-2.06-.94-.94-2.06-.94 2.06-2.06.94zm-11 1L8.5 8.5l.94-2.06 2.06-.94-2.06-.94L8.5 2.5l-.94 2.06-2.06.94zm10 10l.94 2.06.94-2.06 2.06-.94-2.06-.94-.94-2.06-.94 2.06-2.06.94z\"/><path d=\"M17.41 7.96l-1.37-1.37c-.4-.4-.92-.59-1.43-.59-.52 0-1.04.2-1.43.59L10.3 9.45l-7.72 7.72c-.78.78-.78 2.05 0 2.83L4 21.41c.39.39.9.59 1.41.59.51 0 1.02-.2 1.41-.59l7.78-7.78 2.81-2.81c.8-.78.8-2.07 0-2.86zM5.41 20L4 18.59l7.72-7.72 1.47 1.35L5.41 20z\"/>\n",
              "  </svg>\n",
              "      </button>\n",
              "      \n",
              "  <style>\n",
              "    .colab-df-container {\n",
              "      display:flex;\n",
              "      flex-wrap:wrap;\n",
              "      gap: 12px;\n",
              "    }\n",
              "\n",
              "    .colab-df-convert {\n",
              "      background-color: #E8F0FE;\n",
              "      border: none;\n",
              "      border-radius: 50%;\n",
              "      cursor: pointer;\n",
              "      display: none;\n",
              "      fill: #1967D2;\n",
              "      height: 32px;\n",
              "      padding: 0 0 0 0;\n",
              "      width: 32px;\n",
              "    }\n",
              "\n",
              "    .colab-df-convert:hover {\n",
              "      background-color: #E2EBFA;\n",
              "      box-shadow: 0px 1px 2px rgba(60, 64, 67, 0.3), 0px 1px 3px 1px rgba(60, 64, 67, 0.15);\n",
              "      fill: #174EA6;\n",
              "    }\n",
              "\n",
              "    [theme=dark] .colab-df-convert {\n",
              "      background-color: #3B4455;\n",
              "      fill: #D2E3FC;\n",
              "    }\n",
              "\n",
              "    [theme=dark] .colab-df-convert:hover {\n",
              "      background-color: #434B5C;\n",
              "      box-shadow: 0px 1px 3px 1px rgba(0, 0, 0, 0.15);\n",
              "      filter: drop-shadow(0px 1px 2px rgba(0, 0, 0, 0.3));\n",
              "      fill: #FFFFFF;\n",
              "    }\n",
              "  </style>\n",
              "\n",
              "      <script>\n",
              "        const buttonEl =\n",
              "          document.querySelector('#df-d2b175a4-8c18-4bee-a49b-381404b0a1df button.colab-df-convert');\n",
              "        buttonEl.style.display =\n",
              "          google.colab.kernel.accessAllowed ? 'block' : 'none';\n",
              "\n",
              "        async function convertToInteractive(key) {\n",
              "          const element = document.querySelector('#df-d2b175a4-8c18-4bee-a49b-381404b0a1df');\n",
              "          const dataTable =\n",
              "            await google.colab.kernel.invokeFunction('convertToInteractive',\n",
              "                                                     [key], {});\n",
              "          if (!dataTable) return;\n",
              "\n",
              "          const docLinkHtml = 'Like what you see? Visit the ' +\n",
              "            '<a target=\"_blank\" href=https://colab.research.google.com/notebooks/data_table.ipynb>data table notebook</a>'\n",
              "            + ' to learn more about interactive tables.';\n",
              "          element.innerHTML = '';\n",
              "          dataTable['output_type'] = 'display_data';\n",
              "          await google.colab.output.renderOutput(dataTable, element);\n",
              "          const docLink = document.createElement('div');\n",
              "          docLink.innerHTML = docLinkHtml;\n",
              "          element.appendChild(docLink);\n",
              "        }\n",
              "      </script>\n",
              "    </div>\n",
              "  </div>\n",
              "  "
            ]
          },
          "metadata": {},
          "execution_count": 5
        }
      ]
    },
    {
      "cell_type": "code",
      "source": [
        "#Checking the dimensions of the data\n",
        "df.shape"
      ],
      "metadata": {
        "colab": {
          "base_uri": "https://localhost:8080/"
        },
        "id": "w5HUHgIY3URZ",
        "outputId": "2564003d-a667-4962-bd05-169088ca03e3"
      },
      "execution_count": null,
      "outputs": [
        {
          "output_type": "execute_result",
          "data": {
            "text/plain": [
              "(12263524, 11)"
            ]
          },
          "metadata": {},
          "execution_count": 7
        }
      ]
    },
    {
      "cell_type": "code",
      "source": [
        "#Checking for null values\n",
        "df.isnull().sum()"
      ],
      "metadata": {
        "colab": {
          "base_uri": "https://localhost:8080/"
        },
        "id": "QzacGmO-dtF6",
        "outputId": "b87fa5bb-adf8-4523-8222-4226e7278ea9"
      },
      "execution_count": null,
      "outputs": [
        {
          "output_type": "execute_result",
          "data": {
            "text/plain": [
              "time     0\n",
              "acc_x    0\n",
              "acc_y    0\n",
              "acc_z    0\n",
              "gyr_x    0\n",
              "gyr_y    0\n",
              "gyr_z    0\n",
              "mag_x    0\n",
              "mag_y    0\n",
              "mag_z    0\n",
              "label    0\n",
              "dtype: int64"
            ]
          },
          "metadata": {},
          "execution_count": 8
        }
      ]
    },
    {
      "cell_type": "markdown",
      "source": [
        "We notice that there are no null values present in our df"
      ],
      "metadata": {
        "id": "tZtpZODed5sL"
      }
    },
    {
      "cell_type": "code",
      "source": [
        "#checking the correlation between all the features by heatmap\n",
        "plt.figure(figsize = (10,10))\n",
        "cor = df.corr()\n",
        "sns.heatmap(cor, annot = True, cmap = \"coolwarm\", fmt = '.0%')\n",
        "plt.show()\n"
      ],
      "metadata": {
        "colab": {
          "base_uri": "https://localhost:8080/",
          "height": 595
        },
        "id": "UF440bQKd0fg",
        "outputId": "9e4cbda9-41cb-4f63-88e6-d3bcaeca066e"
      },
      "execution_count": null,
      "outputs": [
        {
          "output_type": "display_data",
          "data": {
            "text/plain": [
              "<Figure size 720x720 with 2 Axes>"
            ],
            "image/png": "[encoded data removed]"
          },
          "metadata": {
            "needs_background": "light"
          }
        }
      ]
    },
    {
      "cell_type": "code",
      "source": [
        "#understanding our target variable\n",
        "sns.countplot(df['label'])"
      ],
      "metadata": {
        "colab": {
          "base_uri": "https://localhost:8080/",
          "height": 308
        },
        "id": "J0Gn1Sv5fagj",
        "outputId": "f25870a5-f405-4dc9-c112-087d1fff5e00"
      },
      "execution_count": null,
      "outputs": [
        {
          "output_type": "execute_result",
          "data": {
            "text/plain": [
              "<matplotlib.axes._subplots.AxesSubplot at 0x7f5514785ad0>"
            ]
          },
          "metadata": {},
          "execution_count": 10
        },
        {
          "output_type": "display_data",
          "data": {
            "text/plain": [
              "<Figure size 432x288 with 1 Axes>"
            ],
            "image/png": "[encoded data removed]"
          },
          "metadata": {
            "needs_background": "light"
          }
        }
      ]
    },
    {
      "cell_type": "code",
      "source": [
        "#checking if there are any categorical features\n",
        "df.info()"
      ],
      "metadata": {
        "colab": {
          "base_uri": "https://localhost:8080/"
        },
        "id": "cmjYa_63f084",
        "outputId": "1c0d79da-be1e-4c60-83ab-3a28c2ed1898"
      },
      "execution_count": null,
      "outputs": [
        {
          "output_type": "stream",
          "name": "stdout",
          "text": [
            "<class 'pandas.core.frame.DataFrame'>\n",
            "Int64Index: 12263524 entries, 0 to 2539805\n",
            "Data columns (total 11 columns):\n",
            " #   Column  Dtype  \n",
            "---  ------  -----  \n",
            " 0   time    int64  \n",
            " 1   acc_x   float64\n",
            " 2   acc_y   float64\n",
            " 3   acc_z   float64\n",
            " 4   gyr_x   float64\n",
            " 5   gyr_y   float64\n",
            " 6   gyr_z   float64\n",
            " 7   mag_x   float64\n",
            " 8   mag_y   float64\n",
            " 9   mag_z   float64\n",
            " 10  label   int64  \n",
            "dtypes: float64(9), int64(2)\n",
            "memory usage: 1.2 GB\n"
          ]
        }
      ]
    },
    {
      "cell_type": "code",
      "source": [
        "#descriptive stats\n",
        "df.describe().T"
      ],
      "metadata": {
        "colab": {
          "base_uri": "https://localhost:8080/",
          "height": 394
        },
        "id": "QCndzP7e1jG9",
        "outputId": "51bdfb23-bc8d-42f7-d2c9-ea28b20d2b01"
      },
      "execution_count": null,
      "outputs": [
        {
          "output_type": "execute_result",
          "data": {
            "text/plain": [
              "            count          mean            std           min           25%  \\\n",
              "time   12263524.0  1.628243e+09  120566.211087  1.628067e+09  1.628106e+09   \n",
              "acc_x  12263524.0 -2.807402e-02       0.262217 -1.599756e+01 -2.182617e-01   \n",
              "acc_y  12263524.0  6.211683e-01       0.708480 -1.314160e+01  8.281250e-01   \n",
              "acc_z  12263524.0  1.081455e-01       0.188861 -1.599121e+01  3.173830e-02   \n",
              "gyr_x  12263524.0  8.722215e-01      12.824807 -1.999756e+03 -2.014160e+00   \n",
              "gyr_y  12263524.0 -1.837340e+00      20.141508 -1.998779e+03 -5.676270e+00   \n",
              "gyr_z  12263524.0 -6.375345e-01      10.300934 -1.999756e+03 -2.685547e+00   \n",
              "mag_x  12263524.0 -2.934089e+02     273.614110 -1.534500e+03 -4.635000e+02   \n",
              "mag_y  12263524.0  4.300977e+02     596.972003 -1.057500e+03 -4.950000e+01   \n",
              "mag_z  12263524.0  2.037158e+02     438.299636 -1.152000e+03  6.900000e+01   \n",
              "label  12263524.0  4.320899e+00       2.417436  1.000000e+00  1.000000e+00   \n",
              "\n",
              "                50%           75%           max  \n",
              "time   1.628312e+09  1.628335e+09  1.628421e+09  \n",
              "acc_x -2.490230e-02  1.616211e-01  1.051514e+01  \n",
              "acc_y  9.370118e-01  9.736329e-01  1.182617e+01  \n",
              "acc_z  1.230469e-01  2.006836e-01  1.599854e+01  \n",
              "gyr_x  8.544922e-01  3.723145e+00  1.999756e+03  \n",
              "gyr_y -1.892090e+00  1.892090e+00  1.999939e+03  \n",
              "gyr_z -6.103516e-01  1.464844e+00  1.973511e+03  \n",
              "mag_x -2.535000e+02 -1.260000e+02  7.920000e+02  \n",
              "mag_y  1.395000e+02  9.795000e+02  1.918500e+03  \n",
              "mag_z  3.165000e+02  5.520000e+02  1.179000e+03  \n",
              "label  4.000000e+00  6.000000e+00  9.000000e+00  "
            ],
            "text/html": [
              "\n",
              "  <div id=\"df-91a62c90-7eda-4cf9-9575-2e1aab54d150\">\n",
              "    <div class=\"colab-df-container\">\n",
              "      <div>\n",
              "<style scoped>\n",
              "    .dataframe tbody tr th:only-of-type {\n",
              "        vertical-align: middle;\n",
              "    }\n",
              "\n",
              "    .dataframe tbody tr th {\n",
              "        vertical-align: top;\n",
              "    }\n",
              "\n",
              "    .dataframe thead th {\n",
              "        text-align: right;\n",
              "    }\n",
              "</style>\n",
              "<table border=\"1\" class=\"dataframe\">\n",
              "  <thead>\n",
              "    <tr style=\"text-align: right;\">\n",
              "      <th></th>\n",
              "      <th>count</th>\n",
              "      <th>mean</th>\n",
              "      <th>std</th>\n",
              "      <th>min</th>\n",
              "      <th>25%</th>\n",
              "      <th>50%</th>\n",
              "      <th>75%</th>\n",
              "      <th>max</th>\n",
              "    </tr>\n",
              "  </thead>\n",
              "  <tbody>\n",
              "    <tr>\n",
              "      <th>time</th>\n",
              "      <td>12263524.0</td>\n",
              "      <td>1.628243e+09</td>\n",
              "      <td>120566.211087</td>\n",
              "      <td>1.628067e+09</td>\n",
              "      <td>1.628106e+09</td>\n",
              "      <td>1.628312e+09</td>\n",
              "      <td>1.628335e+09</td>\n",
              "      <td>1.628421e+09</td>\n",
              "    </tr>\n",
              "    <tr>\n",
              "      <th>acc_x</th>\n",
              "      <td>12263524.0</td>\n",
              "      <td>-2.807402e-02</td>\n",
              "      <td>0.262217</td>\n",
              "      <td>-1.599756e+01</td>\n",
              "      <td>-2.182617e-01</td>\n",
              "      <td>-2.490230e-02</td>\n",
              "      <td>1.616211e-01</td>\n",
              "      <td>1.051514e+01</td>\n",
              "    </tr>\n",
              "    <tr>\n",
              "      <th>acc_y</th>\n",
              "      <td>12263524.0</td>\n",
              "      <td>6.211683e-01</td>\n",
              "      <td>0.708480</td>\n",
              "      <td>-1.314160e+01</td>\n",
              "      <td>8.281250e-01</td>\n",
              "      <td>9.370118e-01</td>\n",
              "      <td>9.736329e-01</td>\n",
              "      <td>1.182617e+01</td>\n",
              "    </tr>\n",
              "    <tr>\n",
              "      <th>acc_z</th>\n",
              "      <td>12263524.0</td>\n",
              "      <td>1.081455e-01</td>\n",
              "      <td>0.188861</td>\n",
              "      <td>-1.599121e+01</td>\n",
              "      <td>3.173830e-02</td>\n",
              "      <td>1.230469e-01</td>\n",
              "      <td>2.006836e-01</td>\n",
              "      <td>1.599854e+01</td>\n",
              "    </tr>\n",
              "    <tr>\n",
              "      <th>gyr_x</th>\n",
              "      <td>12263524.0</td>\n",
              "      <td>8.722215e-01</td>\n",
              "      <td>12.824807</td>\n",
              "      <td>-1.999756e+03</td>\n",
              "      <td>-2.014160e+00</td>\n",
              "      <td>8.544922e-01</td>\n",
              "      <td>3.723145e+00</td>\n",
              "      <td>1.999756e+03</td>\n",
              "    </tr>\n",
              "    <tr>\n",
              "      <th>gyr_y</th>\n",
              "      <td>12263524.0</td>\n",
              "      <td>-1.837340e+00</td>\n",
              "      <td>20.141508</td>\n",
              "      <td>-1.998779e+03</td>\n",
              "      <td>-5.676270e+00</td>\n",
              "      <td>-1.892090e+00</td>\n",
              "      <td>1.892090e+00</td>\n",
              "      <td>1.999939e+03</td>\n",
              "    </tr>\n",
              "    <tr>\n",
              "      <th>gyr_z</th>\n",
              "      <td>12263524.0</td>\n",
              "      <td>-6.375345e-01</td>\n",
              "      <td>10.300934</td>\n",
              "      <td>-1.999756e+03</td>\n",
              "      <td>-2.685547e+00</td>\n",
              "      <td>-6.103516e-01</td>\n",
              "      <td>1.464844e+00</td>\n",
              "      <td>1.973511e+03</td>\n",
              "    </tr>\n",
              "    <tr>\n",
              "      <th>mag_x</th>\n",
              "      <td>12263524.0</td>\n",
              "      <td>-2.934089e+02</td>\n",
              "      <td>273.614110</td>\n",
              "      <td>-1.534500e+03</td>\n",
              "      <td>-4.635000e+02</td>\n",
              "      <td>-2.535000e+02</td>\n",
              "      <td>-1.260000e+02</td>\n",
              "      <td>7.920000e+02</td>\n",
              "    </tr>\n",
              "    <tr>\n",
              "      <th>mag_y</th>\n",
              "      <td>12263524.0</td>\n",
              "      <td>4.300977e+02</td>\n",
              "      <td>596.972003</td>\n",
              "      <td>-1.057500e+03</td>\n",
              "      <td>-4.950000e+01</td>\n",
              "      <td>1.395000e+02</td>\n",
              "      <td>9.795000e+02</td>\n",
              "      <td>1.918500e+03</td>\n",
              "    </tr>\n",
              "    <tr>\n",
              "      <th>mag_z</th>\n",
              "      <td>12263524.0</td>\n",
              "      <td>2.037158e+02</td>\n",
              "      <td>438.299636</td>\n",
              "      <td>-1.152000e+03</td>\n",
              "      <td>6.900000e+01</td>\n",
              "      <td>3.165000e+02</td>\n",
              "      <td>5.520000e+02</td>\n",
              "      <td>1.179000e+03</td>\n",
              "    </tr>\n",
              "    <tr>\n",
              "      <th>label</th>\n",
              "      <td>12263524.0</td>\n",
              "      <td>4.320899e+00</td>\n",
              "      <td>2.417436</td>\n",
              "      <td>1.000000e+00</td>\n",
              "      <td>1.000000e+00</td>\n",
              "      <td>4.000000e+00</td>\n",
              "      <td>6.000000e+00</td>\n",
              "      <td>9.000000e+00</td>\n",
              "    </tr>\n",
              "  </tbody>\n",
              "</table>\n",
              "</div>\n",
              "      <button class=\"colab-df-convert\" onclick=\"convertToInteractive('df-91a62c90-7eda-4cf9-9575-2e1aab54d150')\"\n",
              "              title=\"Convert this dataframe to an interactive table.\"\n",
              "              style=\"display:none;\">\n",
              "        \n",
              "  <svg xmlns=\"http://www.w3.org/2000/svg\" height=\"24px\"viewBox=\"0 0 24 24\"\n",
              "       width=\"24px\">\n",
              "    <path d=\"M0 0h24v24H0V0z\" fill=\"none\"/>\n",
              "    <path d=\"M18.56 5.44l.94 2.06.94-2.06 2.06-.94-2.06-.94-.94-2.06-.94 2.06-2.06.94zm-11 1L8.5 8.5l.94-2.06 2.06-.94-2.06-.94L8.5 2.5l-.94 2.06-2.06.94zm10 10l.94 2.06.94-2.06 2.06-.94-2.06-.94-.94-2.06-.94 2.06-2.06.94z\"/><path d=\"M17.41 7.96l-1.37-1.37c-.4-.4-.92-.59-1.43-.59-.52 0-1.04.2-1.43.59L10.3 9.45l-7.72 7.72c-.78.78-.78 2.05 0 2.83L4 21.41c.39.39.9.59 1.41.59.51 0 1.02-.2 1.41-.59l7.78-7.78 2.81-2.81c.8-.78.8-2.07 0-2.86zM5.41 20L4 18.59l7.72-7.72 1.47 1.35L5.41 20z\"/>\n",
              "  </svg>\n",
              "      </button>\n",
              "      \n",
              "  <style>\n",
              "    .colab-df-container {\n",
              "      display:flex;\n",
              "      flex-wrap:wrap;\n",
              "      gap: 12px;\n",
              "    }\n",
              "\n",
              "    .colab-df-convert {\n",
              "      background-color: #E8F0FE;\n",
              "      border: none;\n",
              "      border-radius: 50%;\n",
              "      cursor: pointer;\n",
              "      display: none;\n",
              "      fill: #1967D2;\n",
              "      height: 32px;\n",
              "      padding: 0 0 0 0;\n",
              "      width: 32px;\n",
              "    }\n",
              "\n",
              "    .colab-df-convert:hover {\n",
              "      background-color: #E2EBFA;\n",
              "      box-shadow: 0px 1px 2px rgba(60, 64, 67, 0.3), 0px 1px 3px 1px rgba(60, 64, 67, 0.15);\n",
              "      fill: #174EA6;\n",
              "    }\n",
              "\n",
              "    [theme=dark] .colab-df-convert {\n",
              "      background-color: #3B4455;\n",
              "      fill: #D2E3FC;\n",
              "    }\n",
              "\n",
              "    [theme=dark] .colab-df-convert:hover {\n",
              "      background-color: #434B5C;\n",
              "      box-shadow: 0px 1px 3px 1px rgba(0, 0, 0, 0.15);\n",
              "      filter: drop-shadow(0px 1px 2px rgba(0, 0, 0, 0.3));\n",
              "      fill: #FFFFFF;\n",
              "    }\n",
              "  </style>\n",
              "\n",
              "      <script>\n",
              "        const buttonEl =\n",
              "          document.querySelector('#df-91a62c90-7eda-4cf9-9575-2e1aab54d150 button.colab-df-convert');\n",
              "        buttonEl.style.display =\n",
              "          google.colab.kernel.accessAllowed ? 'block' : 'none';\n",
              "\n",
              "        async function convertToInteractive(key) {\n",
              "          const element = document.querySelector('#df-91a62c90-7eda-4cf9-9575-2e1aab54d150');\n",
              "          const dataTable =\n",
              "            await google.colab.kernel.invokeFunction('convertToInteractive',\n",
              "                                                     [key], {});\n",
              "          if (!dataTable) return;\n",
              "\n",
              "          const docLinkHtml = 'Like what you see? Visit the ' +\n",
              "            '<a target=\"_blank\" href=https://colab.research.google.com/notebooks/data_table.ipynb>data table notebook</a>'\n",
              "            + ' to learn more about interactive tables.';\n",
              "          element.innerHTML = '';\n",
              "          dataTable['output_type'] = 'display_data';\n",
              "          await google.colab.output.renderOutput(dataTable, element);\n",
              "          const docLink = document.createElement('div');\n",
              "          docLink.innerHTML = docLinkHtml;\n",
              "          element.appendChild(docLink);\n",
              "        }\n",
              "      </script>\n",
              "    </div>\n",
              "  </div>\n",
              "  "
            ]
          },
          "metadata": {},
          "execution_count": 12
        }
      ]
    },
    {
      "cell_type": "code",
      "source": [
        "#checking for outliers using boxplot\n",
        "fig = plt.figure(figsize = (6,6))\n",
        "\n",
        "#calling the boxplot\n",
        "sns.boxplot(data = df, linewidth = 1) #linewidth -- space between each inforamation\n",
        "\n",
        "plt.xticks(rotation = 'vertical')\n",
        "plt.show()"
      ],
      "metadata": {
        "colab": {
          "base_uri": "https://localhost:8080/",
          "height": 408
        },
        "id": "xCU_AGI0-5PE",
        "outputId": "900cfe56-c11a-40a9-e09d-7e4093c8bf98"
      },
      "execution_count": null,
      "outputs": [
        {
          "output_type": "display_data",
          "data": {
            "text/plain": [
              "<Figure size 432x432 with 1 Axes>"
            ],
            "image/png": "[encoded data removed]"
          },
          "metadata": {
            "needs_background": "light"
          }
        }
      ]
    },
    {
      "cell_type": "code",
      "source": [
        "#checking the outliers for acc_x using boxplot\n",
        "plt.boxplot(df['acc_x'])"
      ],
      "metadata": {
        "colab": {
          "base_uri": "https://localhost:8080/",
          "height": 411
        },
        "id": "Ph5s1C0e_M70",
        "outputId": "3a6525b0-9b9a-4dcc-c206-353349c1f280"
      },
      "execution_count": null,
      "outputs": [
        {
          "output_type": "execute_result",
          "data": {
            "text/plain": [
              "{'whiskers': [<matplotlib.lines.Line2D at 0x7f5512ca9f90>,\n",
              "  <matplotlib.lines.Line2D at 0x7f5512cb0750>],\n",
              " 'caps': [<matplotlib.lines.Line2D at 0x7f5512cb0c90>,\n",
              "  <matplotlib.lines.Line2D at 0x7f5512cb0f90>],\n",
              " 'boxes': [<matplotlib.lines.Line2D at 0x7f5512ca9cd0>],\n",
              " 'medians': [<matplotlib.lines.Line2D at 0x7f5512cb5790>],\n",
              " 'fliers': [<matplotlib.lines.Line2D at 0x7f5512cb5cd0>],\n",
              " 'means': []}"
            ]
          },
          "metadata": {},
          "execution_count": 14
        },
        {
          "output_type": "display_data",
          "data": {
            "text/plain": [
              "<Figure size 432x288 with 1 Axes>"
            ],
            "image/png": "[encoded data removed]"
          },
          "metadata": {
            "needs_background": "light"
          }
        }
      ]
    },
    {
      "cell_type": "code",
      "source": [
        "#column names\n",
        "df.columns"
      ],
      "metadata": {
        "colab": {
          "base_uri": "https://localhost:8080/"
        },
        "id": "cpCbaE3z_crz",
        "outputId": "d0caed32-1a3d-40b4-a1bb-ee4888e0ce9b"
      },
      "execution_count": null,
      "outputs": [
        {
          "output_type": "execute_result",
          "data": {
            "text/plain": [
              "Index(['time', 'acc_x', 'acc_y', 'acc_z', 'gyr_x', 'gyr_y', 'gyr_z', 'mag_x',\n",
              "       'mag_y', 'mag_z', 'label'],\n",
              "      dtype='object')"
            ]
          },
          "metadata": {},
          "execution_count": 6
        }
      ]
    },
    {
      "cell_type": "code",
      "source": [
        "#seperating the x and y variables\n",
        "x = df.drop('label', axis = 1) #independent features\n",
        "y = df['label'] #dependent features"
      ],
      "metadata": {
        "id": "l5isH58XAVBH"
      },
      "execution_count": 6,
      "outputs": []
    },
    {
      "cell_type": "code",
      "source": [
        "#viewing the independent features\n",
        "x.head()"
      ],
      "metadata": {
        "colab": {
          "base_uri": "https://localhost:8080/",
          "height": 206
        },
        "id": "MkIUR4-lAclg",
        "outputId": "cd1c0bcc-0ac8-4235-b136-459a3257b73f"
      },
      "execution_count": 7,
      "outputs": [
        {
          "output_type": "execute_result",
          "data": {
            "text/plain": [
              "         time     acc_x     acc_y     acc_z      gyr_x      gyr_y      gyr_z  \\\n",
              "0  1628079761 -0.187012  1.071289  0.321289   7.934570 -40.527344  17.028809   \n",
              "1  1628079761 -0.137207  1.099121  0.294922   0.305176 -44.677734  15.930176   \n",
              "2  1628079761  0.028320  1.053711  0.215820  -9.216309 -42.541504  10.681152   \n",
              "3  1628079761  0.151856  0.960938  0.206543 -15.502930 -31.433105   4.943848   \n",
              "4  1628079761  0.171387  0.883301  0.247070  -0.061035 -27.832031  -2.685547   \n",
              "\n",
              "   mag_x   mag_y  mag_z  \n",
              "0 -526.5  1437.0  513.0  \n",
              "1 -528.0  1423.5  495.0  \n",
              "2 -510.0  1419.0  484.5  \n",
              "3 -529.5  1428.0  496.5  \n",
              "4 -526.5  1420.5  505.5  "
            ],
            "text/html": [
              "\n",
              "  <div id=\"df-5061b2f7-c5cc-4ece-9419-a8d84888b0fd\">\n",
              "    <div class=\"colab-df-container\">\n",
              "      <div>\n",
              "<style scoped>\n",
              "    .dataframe tbody tr th:only-of-type {\n",
              "        vertical-align: middle;\n",
              "    }\n",
              "\n",
              "    .dataframe tbody tr th {\n",
              "        vertical-align: top;\n",
              "    }\n",
              "\n",
              "    .dataframe thead th {\n",
              "        text-align: right;\n",
              "    }\n",
              "</style>\n",
              "<table border=\"1\" class=\"dataframe\">\n",
              "  <thead>\n",
              "    <tr style=\"text-align: right;\">\n",
              "      <th></th>\n",
              "      <th>time</th>\n",
              "      <th>acc_x</th>\n",
              "      <th>acc_y</th>\n",
              "      <th>acc_z</th>\n",
              "      <th>gyr_x</th>\n",
              "      <th>gyr_y</th>\n",
              "      <th>gyr_z</th>\n",
              "      <th>mag_x</th>\n",
              "      <th>mag_y</th>\n",
              "      <th>mag_z</th>\n",
              "    </tr>\n",
              "  </thead>\n",
              "  <tbody>\n",
              "    <tr>\n",
              "      <th>0</th>\n",
              "      <td>1628079761</td>\n",
              "      <td>-0.187012</td>\n",
              "      <td>1.071289</td>\n",
              "      <td>0.321289</td>\n",
              "      <td>7.934570</td>\n",
              "      <td>-40.527344</td>\n",
              "      <td>17.028809</td>\n",
              "      <td>-526.5</td>\n",
              "      <td>1437.0</td>\n",
              "      <td>513.0</td>\n",
              "    </tr>\n",
              "    <tr>\n",
              "      <th>1</th>\n",
              "      <td>1628079761</td>\n",
              "      <td>-0.137207</td>\n",
              "      <td>1.099121</td>\n",
              "      <td>0.294922</td>\n",
              "      <td>0.305176</td>\n",
              "      <td>-44.677734</td>\n",
              "      <td>15.930176</td>\n",
              "      <td>-528.0</td>\n",
              "      <td>1423.5</td>\n",
              "      <td>495.0</td>\n",
              "    </tr>\n",
              "    <tr>\n",
              "      <th>2</th>\n",
              "      <td>1628079761</td>\n",
              "      <td>0.028320</td>\n",
              "      <td>1.053711</td>\n",
              "      <td>0.215820</td>\n",
              "      <td>-9.216309</td>\n",
              "      <td>-42.541504</td>\n",
              "      <td>10.681152</td>\n",
              "      <td>-510.0</td>\n",
              "      <td>1419.0</td>\n",
              "      <td>484.5</td>\n",
              "    </tr>\n",
              "    <tr>\n",
              "      <th>3</th>\n",
              "      <td>1628079761</td>\n",
              "      <td>0.151856</td>\n",
              "      <td>0.960938</td>\n",
              "      <td>0.206543</td>\n",
              "      <td>-15.502930</td>\n",
              "      <td>-31.433105</td>\n",
              "      <td>4.943848</td>\n",
              "      <td>-529.5</td>\n",
              "      <td>1428.0</td>\n",
              "      <td>496.5</td>\n",
              "    </tr>\n",
              "    <tr>\n",
              "      <th>4</th>\n",
              "      <td>1628079761</td>\n",
              "      <td>0.171387</td>\n",
              "      <td>0.883301</td>\n",
              "      <td>0.247070</td>\n",
              "      <td>-0.061035</td>\n",
              "      <td>-27.832031</td>\n",
              "      <td>-2.685547</td>\n",
              "      <td>-526.5</td>\n",
              "      <td>1420.5</td>\n",
              "      <td>505.5</td>\n",
              "    </tr>\n",
              "  </tbody>\n",
              "</table>\n",
              "</div>\n",
              "      <button class=\"colab-df-convert\" onclick=\"convertToInteractive('df-5061b2f7-c5cc-4ece-9419-a8d84888b0fd')\"\n",
              "              title=\"Convert this dataframe to an interactive table.\"\n",
              "              style=\"display:none;\">\n",
              "        \n",
              "  <svg xmlns=\"http://www.w3.org/2000/svg\" height=\"24px\"viewBox=\"0 0 24 24\"\n",
              "       width=\"24px\">\n",
              "    <path d=\"M0 0h24v24H0V0z\" fill=\"none\"/>\n",
              "    <path d=\"M18.56 5.44l.94 2.06.94-2.06 2.06-.94-2.06-.94-.94-2.06-.94 2.06-2.06.94zm-11 1L8.5 8.5l.94-2.06 2.06-.94-2.06-.94L8.5 2.5l-.94 2.06-2.06.94zm10 10l.94 2.06.94-2.06 2.06-.94-2.06-.94-.94-2.06-.94 2.06-2.06.94z\"/><path d=\"M17.41 7.96l-1.37-1.37c-.4-.4-.92-.59-1.43-.59-.52 0-1.04.2-1.43.59L10.3 9.45l-7.72 7.72c-.78.78-.78 2.05 0 2.83L4 21.41c.39.39.9.59 1.41.59.51 0 1.02-.2 1.41-.59l7.78-7.78 2.81-2.81c.8-.78.8-2.07 0-2.86zM5.41 20L4 18.59l7.72-7.72 1.47 1.35L5.41 20z\"/>\n",
              "  </svg>\n",
              "      </button>\n",
              "      \n",
              "  <style>\n",
              "    .colab-df-container {\n",
              "      display:flex;\n",
              "      flex-wrap:wrap;\n",
              "      gap: 12px;\n",
              "    }\n",
              "\n",
              "    .colab-df-convert {\n",
              "      background-color: #E8F0FE;\n",
              "      border: none;\n",
              "      border-radius: 50%;\n",
              "      cursor: pointer;\n",
              "      display: none;\n",
              "      fill: #1967D2;\n",
              "      height: 32px;\n",
              "      padding: 0 0 0 0;\n",
              "      width: 32px;\n",
              "    }\n",
              "\n",
              "    .colab-df-convert:hover {\n",
              "      background-color: #E2EBFA;\n",
              "      box-shadow: 0px 1px 2px rgba(60, 64, 67, 0.3), 0px 1px 3px 1px rgba(60, 64, 67, 0.15);\n",
              "      fill: #174EA6;\n",
              "    }\n",
              "\n",
              "    [theme=dark] .colab-df-convert {\n",
              "      background-color: #3B4455;\n",
              "      fill: #D2E3FC;\n",
              "    }\n",
              "\n",
              "    [theme=dark] .colab-df-convert:hover {\n",
              "      background-color: #434B5C;\n",
              "      box-shadow: 0px 1px 3px 1px rgba(0, 0, 0, 0.15);\n",
              "      filter: drop-shadow(0px 1px 2px rgba(0, 0, 0, 0.3));\n",
              "      fill: #FFFFFF;\n",
              "    }\n",
              "  </style>\n",
              "\n",
              "      <script>\n",
              "        const buttonEl =\n",
              "          document.querySelector('#df-5061b2f7-c5cc-4ece-9419-a8d84888b0fd button.colab-df-convert');\n",
              "        buttonEl.style.display =\n",
              "          google.colab.kernel.accessAllowed ? 'block' : 'none';\n",
              "\n",
              "        async function convertToInteractive(key) {\n",
              "          const element = document.querySelector('#df-5061b2f7-c5cc-4ece-9419-a8d84888b0fd');\n",
              "          const dataTable =\n",
              "            await google.colab.kernel.invokeFunction('convertToInteractive',\n",
              "                                                     [key], {});\n",
              "          if (!dataTable) return;\n",
              "\n",
              "          const docLinkHtml = 'Like what you see? Visit the ' +\n",
              "            '<a target=\"_blank\" href=https://colab.research.google.com/notebooks/data_table.ipynb>data table notebook</a>'\n",
              "            + ' to learn more about interactive tables.';\n",
              "          element.innerHTML = '';\n",
              "          dataTable['output_type'] = 'display_data';\n",
              "          await google.colab.output.renderOutput(dataTable, element);\n",
              "          const docLink = document.createElement('div');\n",
              "          docLink.innerHTML = docLinkHtml;\n",
              "          element.appendChild(docLink);\n",
              "        }\n",
              "      </script>\n",
              "    </div>\n",
              "  </div>\n",
              "  "
            ]
          },
          "metadata": {},
          "execution_count": 7
        }
      ]
    },
    {
      "cell_type": "code",
      "source": [
        "#viewing the dependent features\n",
        "y.head()"
      ],
      "metadata": {
        "colab": {
          "base_uri": "https://localhost:8080/"
        },
        "id": "5ru3fu0kAhYg",
        "outputId": "cb781995-15dd-40f0-f092-bd024194e25a"
      },
      "execution_count": 8,
      "outputs": [
        {
          "output_type": "execute_result",
          "data": {
            "text/plain": [
              "0    2\n",
              "1    2\n",
              "2    2\n",
              "3    2\n",
              "4    2\n",
              "Name: label, dtype: int64"
            ]
          },
          "metadata": {},
          "execution_count": 8
        }
      ]
    },
    {
      "cell_type": "markdown",
      "source": [
        "**Checking for Outliers**"
      ],
      "metadata": {
        "id": "KevPLN-rBKof"
      }
    },
    {
      "cell_type": "markdown",
      "source": [
        "#a function to plot the outliers for the given column name - identify_outliers"
      ],
      "metadata": {
        "id": "LczDkEPlBPEP"
      }
    },
    {
      "cell_type": "code",
      "source": [
        "#defining a variable named column_name n giving it all the column names except label\n",
        "column_name = ['time', 'acc_x', 'acc_y', 'acc_z', 'gyr_x', 'gyr_y', 'gyr_z', 'mag_x','mag_y', 'mag_z']"
      ],
      "metadata": {
        "id": "tepEtefuAJQp"
      },
      "execution_count": 9,
      "outputs": []
    },
    {
      "cell_type": "code",
      "source": [
        "# Using a for loop inside a function to get the box plots(seaborn) of all the columns\n",
        "def identify_outliers(give_df_name, give_column_name):\n",
        "  for i in column_name:\n",
        "    fig = plt.figure(figsize = (6,8))\n",
        "    sns.boxplot(data = x, y = i)\n",
        "plt.show()"
      ],
      "metadata": {
        "id": "sNics4V4BOl3"
      },
      "execution_count": 10,
      "outputs": []
    },
    {
      "cell_type": "code",
      "source": [
        "#Calling the above defined function to view the outliers for each and every column\n",
        "identify_outliers(x, column_name)"
      ],
      "metadata": {
        "colab": {
          "base_uri": "https://localhost:8080/",
          "height": 1000
        },
        "id": "4sjvg_ayAmw_",
        "outputId": "ee3430f5-fa99-4215-ed32-1c71ba692b9e"
      },
      "execution_count": 11,
      "outputs": [
        {
          "output_type": "display_data",
          "data": {
            "text/plain": [
              "<Figure size 432x576 with 1 Axes>"
            ],
            "image/png": "[encoded data removed]"
          },
          "metadata": {
            "needs_background": "light"
          }
        },
        {
          "output_type": "display_data",
          "data": {
            "text/plain": [
              "<Figure size 432x576 with 1 Axes>"
            ],
            "image/png": "[encoded data removed]"
          },
          "metadata": {
            "needs_background": "light"
          }
        },
        {
          "output_type": "display_data",
          "data": {
            "text/plain": [
              "<Figure size 432x576 with 1 Axes>"
            ],
            "image/png": "[encoded data removed]"
          },
          "metadata": {
            "needs_background": "light"
          }
        },
        {
          "output_type": "display_data",
          "data": {
            "text/plain": [
              "<Figure size 432x576 with 1 Axes>"
            ],
            "image/png": "[encoded data removed]"
          },
          "metadata": {
            "needs_background": "light"
          }
        },
        {
          "output_type": "display_data",
          "data": {
            "text/plain": [
              "<Figure size 432x576 with 1 Axes>"
            ],
            "image/png": "[encoded data removed]"
          },
          "metadata": {
            "needs_background": "light"
          }
        },
        {
          "output_type": "display_data",
          "data": {
            "text/plain": [
              "<Figure size 432x576 with 1 Axes>"
            ],
            "image/png": "[encoded data removed]"
          },
          "metadata": {
            "needs_background": "light"
          }
        },
        {
          "output_type": "display_data",
          "data": {
            "text/plain": [
              "<Figure size 432x576 with 1 Axes>"
            ],
            "image/png": "[encoded data removed]"
          },
          "metadata": {
            "needs_background": "light"
          }
        },
        {
          "output_type": "display_data",
          "data": {
            "text/plain": [
              "<Figure size 432x576 with 1 Axes>"
            ],
            "image/png": "[encoded data removed]"
          },
          "metadata": {
            "needs_background": "light"
          }
        },
        {
          "output_type": "display_data",
          "data": {
            "text/plain": [
              "<Figure size 432x576 with 1 Axes>"
            ],
            "image/png": "[encoded data removed]"
          },
          "metadata": {
            "needs_background": "light"
          }
        },
        {
          "output_type": "display_data",
          "data": {
            "text/plain": [
              "<Figure size 432x576 with 1 Axes>"
            ],
            "image/png": "[encoded data removed]"
          },
          "metadata": {
            "needs_background": "light"
          }
        }
      ]
    },
    {
      "cell_type": "markdown",
      "source": [
        "**Replacing these outliers with median**"
      ],
      "metadata": {
        "id": "5eXVoPaxHwxt"
      }
    },
    {
      "cell_type": "markdown",
      "source": [
        "#creating function to replace outlier values with the median value - replace_outlier\n",
        "#IQR"
      ],
      "metadata": {
        "id": "N6mtJDOELeDx"
      }
    },
    {
      "cell_type": "code",
      "source": [
        "def replace_outlier(x, column_name):\n",
        "    for i in column_name:\n",
        "        print('column name : ',i)\n",
        "        Q1 = np.percentile(x[i], 25)\n",
        "        Q2 = np.percentile(x[i], 50)\n",
        "        Q3 = np.percentile(x[i], 75)\n",
        "        IQR = Q3 - Q1\n",
        "        print('Q1 =',Q1,'Q2 = ',Q2,'Q3 = ',Q3)\n",
        "\n",
        "        upper_val = Q3 + (1.5 * IQR)\n",
        "        print('upper', upper_val)\n",
        "        lower_val = Q1 - (1.5 * IQR)\n",
        "        print('lower', lower_val)\n",
        "\n",
        "        x.loc[x[i] > upper_val, i] = np.median(x[i])\n",
        "        x.loc[x[i] < lower_val, i] = np.median(x[i])\n",
        "        \n",
        "        fig = plt.figure(figsize = (6,8))\n",
        "        sns.boxplot(data = x,y = i)\n",
        "        plt.xticks(rotation = 'horizontal')\n",
        "        plt.show()"
      ],
      "metadata": {
        "id": "0E--PwuXLVsZ"
      },
      "execution_count": 12,
      "outputs": []
    },
    {
      "cell_type": "code",
      "source": [
        "#Calling the above defined function to replace the outliers with median values for each and every column\n",
        "replace_outlier(x, column_name)"
      ],
      "metadata": {
        "colab": {
          "base_uri": "https://localhost:8080/",
          "height": 1000
        },
        "id": "vYhU60nXHP0J",
        "outputId": "fc3f8b8d-cdbf-47ee-ba09-3a3a95e33338"
      },
      "execution_count": 13,
      "outputs": [
        {
          "output_type": "stream",
          "name": "stdout",
          "text": [
            "column name :  time\n",
            "Q1 = 1628105948.0 Q2 =  1628312235.0 Q3 =  1628335043.0\n",
            "upper 1628678685.5\n",
            "lower 1627762305.5\n"
          ]
        },
        {
          "output_type": "display_data",
          "data": {
            "text/plain": [
              "<Figure size 432x576 with 1 Axes>"
            ],
            "image/png": "[encoded data removed]"
          },
          "metadata": {
            "needs_background": "light"
          }
        },
        {
          "output_type": "stream",
          "name": "stdout",
          "text": [
            "column name :  acc_x\n",
            "Q1 = -0.2182617000000001 Q2 =  -0.0249023 Q3 =  0.1616211\n",
            "upper 0.7314453000000001\n",
            "lower -0.7880859000000002\n"
          ]
        },
        {
          "output_type": "display_data",
          "data": {
            "text/plain": [
              "<Figure size 432x576 with 1 Axes>"
            ],
            "image/png": "[encoded data removed]"
          },
          "metadata": {
            "needs_background": "light"
          }
        },
        {
          "output_type": "stream",
          "name": "stdout",
          "text": [
            "column name :  acc_y\n",
            "Q1 = 0.828125 Q2 =  0.9370118 Q3 =  0.9736329\n",
            "upper 1.1918947500000001\n",
            "lower 0.60986315\n"
          ]
        },
        {
          "output_type": "display_data",
          "data": {
            "text/plain": [
              "<Figure size 432x576 with 1 Axes>"
            ],
            "image/png": "[encoded data removed]"
          },
          "metadata": {
            "needs_background": "light"
          }
        },
        {
          "output_type": "stream",
          "name": "stdout",
          "text": [
            "column name :  acc_z\n",
            "Q1 = 0.0317383 Q2 =  0.1230469 Q3 =  0.2006836\n",
            "upper 0.45410154999999996\n",
            "lower -0.22167965\n"
          ]
        },
        {
          "output_type": "display_data",
          "data": {
            "text/plain": [
              "<Figure size 432x576 with 1 Axes>"
            ],
            "image/png": "[encoded data removed]"
          },
          "metadata": {
            "needs_background": "light"
          }
        },
        {
          "output_type": "stream",
          "name": "stdout",
          "text": [
            "column name :  gyr_x\n",
            "Q1 = -2.0141601 Q2 =  0.8544921999999998 Q3 =  3.7231445\n",
            "upper 12.329101399999999\n",
            "lower -10.620116999999999\n"
          ]
        },
        {
          "output_type": "display_data",
          "data": {
            "text/plain": [
              "<Figure size 432x576 with 1 Axes>"
            ],
            "image/png": "[encoded data removed]"
          },
          "metadata": {
            "needs_background": "light"
          }
        },
        {
          "output_type": "stream",
          "name": "stdout",
          "text": [
            "column name :  gyr_y\n",
            "Q1 = -5.6762695 Q2 =  -1.8920898 Q3 =  1.8920898\n",
            "upper 13.24462875\n",
            "lower -17.02880845\n"
          ]
        },
        {
          "output_type": "display_data",
          "data": {
            "text/plain": [
              "<Figure size 432x576 with 1 Axes>"
            ],
            "image/png": "[encoded data removed]"
          },
          "metadata": {
            "needs_background": "light"
          }
        },
        {
          "output_type": "stream",
          "name": "stdout",
          "text": [
            "column name :  gyr_z\n",
            "Q1 = -2.6855469 Q2 =  -0.6103516 Q3 =  1.4648437\n",
            "upper 7.6904296\n",
            "lower -8.911132799999999\n"
          ]
        },
        {
          "output_type": "display_data",
          "data": {
            "text/plain": [
              "<Figure size 432x576 with 1 Axes>"
            ],
            "image/png": "[encoded data removed]"
          },
          "metadata": {
            "needs_background": "light"
          }
        },
        {
          "output_type": "stream",
          "name": "stdout",
          "text": [
            "column name :  mag_x\n",
            "Q1 = -463.5 Q2 =  -253.5 Q3 =  -126.0\n",
            "upper 380.25\n",
            "lower -969.75\n"
          ]
        },
        {
          "output_type": "display_data",
          "data": {
            "text/plain": [
              "<Figure size 432x576 with 1 Axes>"
            ],
            "image/png": "[encoded data removed]"
          },
          "metadata": {
            "needs_background": "light"
          }
        },
        {
          "output_type": "stream",
          "name": "stdout",
          "text": [
            "column name :  mag_y\n",
            "Q1 = -49.5 Q2 =  139.5 Q3 =  979.5\n",
            "upper 2523.0\n",
            "lower -1593.0\n"
          ]
        },
        {
          "output_type": "display_data",
          "data": {
            "text/plain": [
              "<Figure size 432x576 with 1 Axes>"
            ],
            "image/png": "[encoded data removed]"
          },
          "metadata": {
            "needs_background": "light"
          }
        },
        {
          "output_type": "stream",
          "name": "stdout",
          "text": [
            "column name :  mag_z\n",
            "Q1 = 69.0 Q2 =  316.5 Q3 =  552.0\n",
            "upper 1276.5\n",
            "lower -655.5\n"
          ]
        },
        {
          "output_type": "display_data",
          "data": {
            "text/plain": [
              "<Figure size 432x576 with 1 Axes>"
            ],
            "image/png": "[encoded data removed]"
          },
          "metadata": {
            "needs_background": "light"
          }
        }
      ]
    },
    {
      "cell_type": "markdown",
      "source": [
        "### looking for outliers after imputing with median"
      ],
      "metadata": {
        "id": "QUOFXaziN5MS"
      }
    },
    {
      "cell_type": "code",
      "source": [
        "identify_outliers(x, column_name)"
      ],
      "metadata": {
        "colab": {
          "base_uri": "https://localhost:8080/",
          "height": 1000
        },
        "id": "j0KuhCSaNdHh",
        "outputId": "71ace4d8-2c43-41e7-d7cb-920b1aa41949"
      },
      "execution_count": null,
      "outputs": [
        {
          "output_type": "display_data",
          "data": {
            "text/plain": [
              "<Figure size 432x576 with 1 Axes>"
            ],
            "image/png": "[encoded data removed]"
          },
          "metadata": {
            "needs_background": "light"
          }
        },
        {
          "output_type": "display_data",
          "data": {
            "text/plain": [
              "<Figure size 432x576 with 1 Axes>"
            ],
            "image/png": "[encoded data removed]"
          },
          "metadata": {
            "needs_background": "light"
          }
        },
        {
          "output_type": "display_data",
          "data": {
            "text/plain": [
              "<Figure size 432x576 with 1 Axes>"
            ],
            "image/png": "[encoded data removed]"
          },
          "metadata": {
            "needs_background": "light"
          }
        },
        {
          "output_type": "display_data",
          "data": {
            "text/plain": [
              "<Figure size 432x576 with 1 Axes>"
            ],
            "image/png": "[encoded data removed]"
          },
          "metadata": {
            "needs_background": "light"
          }
        },
        {
          "output_type": "display_data",
          "data": {
            "text/plain": [
              "<Figure size 432x576 with 1 Axes>"
            ],
            "image/png": "[encoded data removed]"
          },
          "metadata": {
            "needs_background": "light"
          }
        },
        {
          "output_type": "display_data",
          "data": {
            "text/plain": [
              "<Figure size 432x576 with 1 Axes>"
            ],
            "image/png": "[encoded data removed]"
          },
          "metadata": {
            "needs_background": "light"
          }
        },
        {
          "output_type": "display_data",
          "data": {
            "text/plain": [
              "<Figure size 432x576 with 1 Axes>"
            ],
            "image/png": "[encoded data removed]"
          },
          "metadata": {
            "needs_background": "light"
          }
        },
        {
          "output_type": "display_data",
          "data": {
            "text/plain": [
              "<Figure size 432x576 with 1 Axes>"
            ],
            "image/png": "[encoded data removed]"
          },
          "metadata": {
            "needs_background": "light"
          }
        },
        {
          "output_type": "display_data",
          "data": {
            "text/plain": [
              "<Figure size 432x576 with 1 Axes>"
            ],
            "image/png": "[encoded data removed]"
          },
          "metadata": {
            "needs_background": "light"
          }
        },
        {
          "output_type": "display_data",
          "data": {
            "text/plain": [
              "<Figure size 432x576 with 1 Axes>"
            ],
            "image/png": "[encoded data removed]"
          },
          "metadata": {
            "needs_background": "light"
          }
        }
      ]
    },
    {
      "cell_type": "markdown",
      "source": [
        "## Normalization"
      ],
      "metadata": {
        "id": "pSoBprfvQkQR"
      }
    },
    {
      "cell_type": "code",
      "source": [
        "from sklearn.preprocessing import MinMaxScaler\n",
        "scaling = MinMaxScaler()\n",
        "scaling.fit_transform(x)\n",
        "x_normalized = pd.DataFrame(scaling.fit_transform(x))\n",
        "x_normalized.head()"
      ],
      "metadata": {
        "colab": {
          "base_uri": "https://localhost:8080/",
          "height": 206
        },
        "id": "_-rGHKwAN9OG",
        "outputId": "eda0452f-7bff-40aa-fe45-369f22537fad"
      },
      "execution_count": 14,
      "outputs": [
        {
          "output_type": "execute_result",
          "data": {
            "text/plain": [
              "          0         1         2         3         4    5         6         7  \\\n",
              "0  0.037256  0.395371  0.792785  0.803907  0.810160  0.5  0.500000  0.328142   \n",
              "1  0.037256  0.428158  0.840604  0.764834  0.475936  0.5  0.500000  0.327030   \n",
              "2  0.037256  0.537126  0.762584  0.647612  0.058824  0.5  0.500000  0.340378   \n",
              "3  0.037256  0.618451  0.603188  0.633864  0.500000  0.5  0.837037  0.325918   \n",
              "4  0.037256  0.631308  0.469799  0.693922  0.459893  0.5  0.374074  0.328142   \n",
              "\n",
              "          8         9  \n",
              "0  0.838206  0.636958  \n",
              "1  0.833669  0.627146  \n",
              "2  0.832157  0.621423  \n",
              "3  0.835181  0.627964  \n",
              "4  0.832661  0.632870  "
            ],
            "text/html": [
              "\n",
              "  <div id=\"df-fbd53f67-8641-498d-ba46-9256ae947a02\">\n",
              "    <div class=\"colab-df-container\">\n",
              "      <div>\n",
              "<style scoped>\n",
              "    .dataframe tbody tr th:only-of-type {\n",
              "        vertical-align: middle;\n",
              "    }\n",
              "\n",
              "    .dataframe tbody tr th {\n",
              "        vertical-align: top;\n",
              "    }\n",
              "\n",
              "    .dataframe thead th {\n",
              "        text-align: right;\n",
              "    }\n",
              "</style>\n",
              "<table border=\"1\" class=\"dataframe\">\n",
              "  <thead>\n",
              "    <tr style=\"text-align: right;\">\n",
              "      <th></th>\n",
              "      <th>0</th>\n",
              "      <th>1</th>\n",
              "      <th>2</th>\n",
              "      <th>3</th>\n",
              "      <th>4</th>\n",
              "      <th>5</th>\n",
              "      <th>6</th>\n",
              "      <th>7</th>\n",
              "      <th>8</th>\n",
              "      <th>9</th>\n",
              "    </tr>\n",
              "  </thead>\n",
              "  <tbody>\n",
              "    <tr>\n",
              "      <th>0</th>\n",
              "      <td>0.037256</td>\n",
              "      <td>0.395371</td>\n",
              "      <td>0.792785</td>\n",
              "      <td>0.803907</td>\n",
              "      <td>0.810160</td>\n",
              "      <td>0.5</td>\n",
              "      <td>0.500000</td>\n",
              "      <td>0.328142</td>\n",
              "      <td>0.838206</td>\n",
              "      <td>0.636958</td>\n",
              "    </tr>\n",
              "    <tr>\n",
              "      <th>1</th>\n",
              "      <td>0.037256</td>\n",
              "      <td>0.428158</td>\n",
              "      <td>0.840604</td>\n",
              "      <td>0.764834</td>\n",
              "      <td>0.475936</td>\n",
              "      <td>0.5</td>\n",
              "      <td>0.500000</td>\n",
              "      <td>0.327030</td>\n",
              "      <td>0.833669</td>\n",
              "      <td>0.627146</td>\n",
              "    </tr>\n",
              "    <tr>\n",
              "      <th>2</th>\n",
              "      <td>0.037256</td>\n",
              "      <td>0.537126</td>\n",
              "      <td>0.762584</td>\n",
              "      <td>0.647612</td>\n",
              "      <td>0.058824</td>\n",
              "      <td>0.5</td>\n",
              "      <td>0.500000</td>\n",
              "      <td>0.340378</td>\n",
              "      <td>0.832157</td>\n",
              "      <td>0.621423</td>\n",
              "    </tr>\n",
              "    <tr>\n",
              "      <th>3</th>\n",
              "      <td>0.037256</td>\n",
              "      <td>0.618451</td>\n",
              "      <td>0.603188</td>\n",
              "      <td>0.633864</td>\n",
              "      <td>0.500000</td>\n",
              "      <td>0.5</td>\n",
              "      <td>0.837037</td>\n",
              "      <td>0.325918</td>\n",
              "      <td>0.835181</td>\n",
              "      <td>0.627964</td>\n",
              "    </tr>\n",
              "    <tr>\n",
              "      <th>4</th>\n",
              "      <td>0.037256</td>\n",
              "      <td>0.631308</td>\n",
              "      <td>0.469799</td>\n",
              "      <td>0.693922</td>\n",
              "      <td>0.459893</td>\n",
              "      <td>0.5</td>\n",
              "      <td>0.374074</td>\n",
              "      <td>0.328142</td>\n",
              "      <td>0.832661</td>\n",
              "      <td>0.632870</td>\n",
              "    </tr>\n",
              "  </tbody>\n",
              "</table>\n",
              "</div>\n",
              "      <button class=\"colab-df-convert\" onclick=\"convertToInteractive('df-fbd53f67-8641-498d-ba46-9256ae947a02')\"\n",
              "              title=\"Convert this dataframe to an interactive table.\"\n",
              "              style=\"display:none;\">\n",
              "        \n",
              "  <svg xmlns=\"http://www.w3.org/2000/svg\" height=\"24px\"viewBox=\"0 0 24 24\"\n",
              "       width=\"24px\">\n",
              "    <path d=\"M0 0h24v24H0V0z\" fill=\"none\"/>\n",
              "    <path d=\"M18.56 5.44l.94 2.06.94-2.06 2.06-.94-2.06-.94-.94-2.06-.94 2.06-2.06.94zm-11 1L8.5 8.5l.94-2.06 2.06-.94-2.06-.94L8.5 2.5l-.94 2.06-2.06.94zm10 10l.94 2.06.94-2.06 2.06-.94-2.06-.94-.94-2.06-.94 2.06-2.06.94z\"/><path d=\"M17.41 7.96l-1.37-1.37c-.4-.4-.92-.59-1.43-.59-.52 0-1.04.2-1.43.59L10.3 9.45l-7.72 7.72c-.78.78-.78 2.05 0 2.83L4 21.41c.39.39.9.59 1.41.59.51 0 1.02-.2 1.41-.59l7.78-7.78 2.81-2.81c.8-.78.8-2.07 0-2.86zM5.41 20L4 18.59l7.72-7.72 1.47 1.35L5.41 20z\"/>\n",
              "  </svg>\n",
              "      </button>\n",
              "      \n",
              "  <style>\n",
              "    .colab-df-container {\n",
              "      display:flex;\n",
              "      flex-wrap:wrap;\n",
              "      gap: 12px;\n",
              "    }\n",
              "\n",
              "    .colab-df-convert {\n",
              "      background-color: #E8F0FE;\n",
              "      border: none;\n",
              "      border-radius: 50%;\n",
              "      cursor: pointer;\n",
              "      display: none;\n",
              "      fill: #1967D2;\n",
              "      height: 32px;\n",
              "      padding: 0 0 0 0;\n",
              "      width: 32px;\n",
              "    }\n",
              "\n",
              "    .colab-df-convert:hover {\n",
              "      background-color: #E2EBFA;\n",
              "      box-shadow: 0px 1px 2px rgba(60, 64, 67, 0.3), 0px 1px 3px 1px rgba(60, 64, 67, 0.15);\n",
              "      fill: #174EA6;\n",
              "    }\n",
              "\n",
              "    [theme=dark] .colab-df-convert {\n",
              "      background-color: #3B4455;\n",
              "      fill: #D2E3FC;\n",
              "    }\n",
              "\n",
              "    [theme=dark] .colab-df-convert:hover {\n",
              "      background-color: #434B5C;\n",
              "      box-shadow: 0px 1px 3px 1px rgba(0, 0, 0, 0.15);\n",
              "      filter: drop-shadow(0px 1px 2px rgba(0, 0, 0, 0.3));\n",
              "      fill: #FFFFFF;\n",
              "    }\n",
              "  </style>\n",
              "\n",
              "      <script>\n",
              "        const buttonEl =\n",
              "          document.querySelector('#df-fbd53f67-8641-498d-ba46-9256ae947a02 button.colab-df-convert');\n",
              "        buttonEl.style.display =\n",
              "          google.colab.kernel.accessAllowed ? 'block' : 'none';\n",
              "\n",
              "        async function convertToInteractive(key) {\n",
              "          const element = document.querySelector('#df-fbd53f67-8641-498d-ba46-9256ae947a02');\n",
              "          const dataTable =\n",
              "            await google.colab.kernel.invokeFunction('convertToInteractive',\n",
              "                                                     [key], {});\n",
              "          if (!dataTable) return;\n",
              "\n",
              "          const docLinkHtml = 'Like what you see? Visit the ' +\n",
              "            '<a target=\"_blank\" href=https://colab.research.google.com/notebooks/data_table.ipynb>data table notebook</a>'\n",
              "            + ' to learn more about interactive tables.';\n",
              "          element.innerHTML = '';\n",
              "          dataTable['output_type'] = 'display_data';\n",
              "          await google.colab.output.renderOutput(dataTable, element);\n",
              "          const docLink = document.createElement('div');\n",
              "          docLink.innerHTML = docLinkHtml;\n",
              "          element.appendChild(docLink);\n",
              "        }\n",
              "      </script>\n",
              "    </div>\n",
              "  </div>\n",
              "  "
            ]
          },
          "metadata": {},
          "execution_count": 14
        }
      ]
    },
    {
      "cell_type": "code",
      "source": [
        "#Replacing the numbers with column/variable names\n",
        "x_normalized = pd.DataFrame(scaling.fit_transform(x),columns = x.columns)\n",
        "x_normalized.head()"
      ],
      "metadata": {
        "colab": {
          "base_uri": "https://localhost:8080/",
          "height": 206
        },
        "id": "aCblIpJwRVpH",
        "outputId": "81c23b37-bbb9-4faa-971f-7797ee761d6b"
      },
      "execution_count": 15,
      "outputs": [
        {
          "output_type": "execute_result",
          "data": {
            "text/plain": [
              "       time     acc_x     acc_y     acc_z     gyr_x  gyr_y     gyr_z  \\\n",
              "0  0.037256  0.395371  0.792785  0.803907  0.810160    0.5  0.500000   \n",
              "1  0.037256  0.428158  0.840604  0.764834  0.475936    0.5  0.500000   \n",
              "2  0.037256  0.537126  0.762584  0.647612  0.058824    0.5  0.500000   \n",
              "3  0.037256  0.618451  0.603188  0.633864  0.500000    0.5  0.837037   \n",
              "4  0.037256  0.631308  0.469799  0.693922  0.459893    0.5  0.374074   \n",
              "\n",
              "      mag_x     mag_y     mag_z  \n",
              "0  0.328142  0.838206  0.636958  \n",
              "1  0.327030  0.833669  0.627146  \n",
              "2  0.340378  0.832157  0.621423  \n",
              "3  0.325918  0.835181  0.627964  \n",
              "4  0.328142  0.832661  0.632870  "
            ],
            "text/html": [
              "\n",
              "  <div id=\"df-743a39df-f00c-4a09-ab5f-d2ec9bff7193\">\n",
              "    <div class=\"colab-df-container\">\n",
              "      <div>\n",
              "<style scoped>\n",
              "    .dataframe tbody tr th:only-of-type {\n",
              "        vertical-align: middle;\n",
              "    }\n",
              "\n",
              "    .dataframe tbody tr th {\n",
              "        vertical-align: top;\n",
              "    }\n",
              "\n",
              "    .dataframe thead th {\n",
              "        text-align: right;\n",
              "    }\n",
              "</style>\n",
              "<table border=\"1\" class=\"dataframe\">\n",
              "  <thead>\n",
              "    <tr style=\"text-align: right;\">\n",
              "      <th></th>\n",
              "      <th>time</th>\n",
              "      <th>acc_x</th>\n",
              "      <th>acc_y</th>\n",
              "      <th>acc_z</th>\n",
              "      <th>gyr_x</th>\n",
              "      <th>gyr_y</th>\n",
              "      <th>gyr_z</th>\n",
              "      <th>mag_x</th>\n",
              "      <th>mag_y</th>\n",
              "      <th>mag_z</th>\n",
              "    </tr>\n",
              "  </thead>\n",
              "  <tbody>\n",
              "    <tr>\n",
              "      <th>0</th>\n",
              "      <td>0.037256</td>\n",
              "      <td>0.395371</td>\n",
              "      <td>0.792785</td>\n",
              "      <td>0.803907</td>\n",
              "      <td>0.810160</td>\n",
              "      <td>0.5</td>\n",
              "      <td>0.500000</td>\n",
              "      <td>0.328142</td>\n",
              "      <td>0.838206</td>\n",
              "      <td>0.636958</td>\n",
              "    </tr>\n",
              "    <tr>\n",
              "      <th>1</th>\n",
              "      <td>0.037256</td>\n",
              "      <td>0.428158</td>\n",
              "      <td>0.840604</td>\n",
              "      <td>0.764834</td>\n",
              "      <td>0.475936</td>\n",
              "      <td>0.5</td>\n",
              "      <td>0.500000</td>\n",
              "      <td>0.327030</td>\n",
              "      <td>0.833669</td>\n",
              "      <td>0.627146</td>\n",
              "    </tr>\n",
              "    <tr>\n",
              "      <th>2</th>\n",
              "      <td>0.037256</td>\n",
              "      <td>0.537126</td>\n",
              "      <td>0.762584</td>\n",
              "      <td>0.647612</td>\n",
              "      <td>0.058824</td>\n",
              "      <td>0.5</td>\n",
              "      <td>0.500000</td>\n",
              "      <td>0.340378</td>\n",
              "      <td>0.832157</td>\n",
              "      <td>0.621423</td>\n",
              "    </tr>\n",
              "    <tr>\n",
              "      <th>3</th>\n",
              "      <td>0.037256</td>\n",
              "      <td>0.618451</td>\n",
              "      <td>0.603188</td>\n",
              "      <td>0.633864</td>\n",
              "      <td>0.500000</td>\n",
              "      <td>0.5</td>\n",
              "      <td>0.837037</td>\n",
              "      <td>0.325918</td>\n",
              "      <td>0.835181</td>\n",
              "      <td>0.627964</td>\n",
              "    </tr>\n",
              "    <tr>\n",
              "      <th>4</th>\n",
              "      <td>0.037256</td>\n",
              "      <td>0.631308</td>\n",
              "      <td>0.469799</td>\n",
              "      <td>0.693922</td>\n",
              "      <td>0.459893</td>\n",
              "      <td>0.5</td>\n",
              "      <td>0.374074</td>\n",
              "      <td>0.328142</td>\n",
              "      <td>0.832661</td>\n",
              "      <td>0.632870</td>\n",
              "    </tr>\n",
              "  </tbody>\n",
              "</table>\n",
              "</div>\n",
              "      <button class=\"colab-df-convert\" onclick=\"convertToInteractive('df-743a39df-f00c-4a09-ab5f-d2ec9bff7193')\"\n",
              "              title=\"Convert this dataframe to an interactive table.\"\n",
              "              style=\"display:none;\">\n",
              "        \n",
              "  <svg xmlns=\"http://www.w3.org/2000/svg\" height=\"24px\"viewBox=\"0 0 24 24\"\n",
              "       width=\"24px\">\n",
              "    <path d=\"M0 0h24v24H0V0z\" fill=\"none\"/>\n",
              "    <path d=\"M18.56 5.44l.94 2.06.94-2.06 2.06-.94-2.06-.94-.94-2.06-.94 2.06-2.06.94zm-11 1L8.5 8.5l.94-2.06 2.06-.94-2.06-.94L8.5 2.5l-.94 2.06-2.06.94zm10 10l.94 2.06.94-2.06 2.06-.94-2.06-.94-.94-2.06-.94 2.06-2.06.94z\"/><path d=\"M17.41 7.96l-1.37-1.37c-.4-.4-.92-.59-1.43-.59-.52 0-1.04.2-1.43.59L10.3 9.45l-7.72 7.72c-.78.78-.78 2.05 0 2.83L4 21.41c.39.39.9.59 1.41.59.51 0 1.02-.2 1.41-.59l7.78-7.78 2.81-2.81c.8-.78.8-2.07 0-2.86zM5.41 20L4 18.59l7.72-7.72 1.47 1.35L5.41 20z\"/>\n",
              "  </svg>\n",
              "      </button>\n",
              "      \n",
              "  <style>\n",
              "    .colab-df-container {\n",
              "      display:flex;\n",
              "      flex-wrap:wrap;\n",
              "      gap: 12px;\n",
              "    }\n",
              "\n",
              "    .colab-df-convert {\n",
              "      background-color: #E8F0FE;\n",
              "      border: none;\n",
              "      border-radius: 50%;\n",
              "      cursor: pointer;\n",
              "      display: none;\n",
              "      fill: #1967D2;\n",
              "      height: 32px;\n",
              "      padding: 0 0 0 0;\n",
              "      width: 32px;\n",
              "    }\n",
              "\n",
              "    .colab-df-convert:hover {\n",
              "      background-color: #E2EBFA;\n",
              "      box-shadow: 0px 1px 2px rgba(60, 64, 67, 0.3), 0px 1px 3px 1px rgba(60, 64, 67, 0.15);\n",
              "      fill: #174EA6;\n",
              "    }\n",
              "\n",
              "    [theme=dark] .colab-df-convert {\n",
              "      background-color: #3B4455;\n",
              "      fill: #D2E3FC;\n",
              "    }\n",
              "\n",
              "    [theme=dark] .colab-df-convert:hover {\n",
              "      background-color: #434B5C;\n",
              "      box-shadow: 0px 1px 3px 1px rgba(0, 0, 0, 0.15);\n",
              "      filter: drop-shadow(0px 1px 2px rgba(0, 0, 0, 0.3));\n",
              "      fill: #FFFFFF;\n",
              "    }\n",
              "  </style>\n",
              "\n",
              "      <script>\n",
              "        const buttonEl =\n",
              "          document.querySelector('#df-743a39df-f00c-4a09-ab5f-d2ec9bff7193 button.colab-df-convert');\n",
              "        buttonEl.style.display =\n",
              "          google.colab.kernel.accessAllowed ? 'block' : 'none';\n",
              "\n",
              "        async function convertToInteractive(key) {\n",
              "          const element = document.querySelector('#df-743a39df-f00c-4a09-ab5f-d2ec9bff7193');\n",
              "          const dataTable =\n",
              "            await google.colab.kernel.invokeFunction('convertToInteractive',\n",
              "                                                     [key], {});\n",
              "          if (!dataTable) return;\n",
              "\n",
              "          const docLinkHtml = 'Like what you see? Visit the ' +\n",
              "            '<a target=\"_blank\" href=https://colab.research.google.com/notebooks/data_table.ipynb>data table notebook</a>'\n",
              "            + ' to learn more about interactive tables.';\n",
              "          element.innerHTML = '';\n",
              "          dataTable['output_type'] = 'display_data';\n",
              "          await google.colab.output.renderOutput(dataTable, element);\n",
              "          const docLink = document.createElement('div');\n",
              "          docLink.innerHTML = docLinkHtml;\n",
              "          element.appendChild(docLink);\n",
              "        }\n",
              "      </script>\n",
              "    </div>\n",
              "  </div>\n",
              "  "
            ]
          },
          "metadata": {},
          "execution_count": 15
        }
      ]
    },
    {
      "cell_type": "markdown",
      "source": [
        "#Feature Importance and Feature Selection"
      ],
      "metadata": {
        "id": "2rlU7a8XSqUq"
      }
    },
    {
      "cell_type": "code",
      "source": [
        "#select k best\n",
        "from sklearn.feature_selection import SelectKBest\n",
        "from sklearn.feature_selection import chi2"
      ],
      "metadata": {
        "id": "DUBqp6OYRk2j"
      },
      "execution_count": 16,
      "outputs": []
    },
    {
      "cell_type": "code",
      "source": [
        "#ranking the features\n",
        "select_k_best_rank_features = SelectKBest(score_func = chi2, k = 5)\n",
        "k_best_features = select_k_best_rank_features.fit(x_normalized,y)\n",
        "\n",
        "df_k_scores = pd.DataFrame(k_best_features.scores_, columns = ['score'])\n",
        "dfcolumns = pd.DataFrame(x_normalized.columns)\n",
        "\n",
        "k_best_feature_rank = pd.concat([dfcolumns, df_k_scores], axis = 1)\n",
        "\n",
        "k_best_feature_rank.columns = ('features', 'k_score')\n",
        "print(k_best_feature_rank.nlargest(10, 'k_score'))"
      ],
      "metadata": {
        "colab": {
          "base_uri": "https://localhost:8080/"
        },
        "id": "zNtyCOTSS27n",
        "outputId": "2bf30033-b56c-4ed2-cf55-6d9e20da49bf"
      },
      "execution_count": 17,
      "outputs": [
        {
          "output_type": "stream",
          "name": "stdout",
          "text": [
            "  features        k_score\n",
            "0     time  551696.295023\n",
            "1    acc_x  150058.553644\n",
            "7    mag_x  106664.110660\n",
            "8    mag_y   67694.199460\n",
            "3    acc_z   43636.740653\n",
            "2    acc_y   36914.462179\n",
            "9    mag_z   20446.731776\n",
            "5    gyr_y     207.009252\n",
            "4    gyr_x     178.684434\n",
            "6    gyr_z      34.429657\n"
          ]
        }
      ]
    },
    {
      "cell_type": "markdown",
      "source": [
        "**One more method for finding important features**"
      ],
      "metadata": {
        "id": "cPw9XQuEWZKe"
      }
    },
    {
      "cell_type": "code",
      "source": [
        "#from sklearn.feature_selection import mutual_info_classif\n",
        "#mutual_info = mutual_info_classif(x_normalized, y)\n",
        "\n",
        "#mutual_data = pd.Series(mutual_info, index = x.columns)\n",
        "#mutual_data.sort_values(ascending = False)\n",
        "\n",
        "#print(mutual_data.nlargest(9))\n",
        "\n",
        "#mutual_data.nlargest(9).plot(kind = 'barh')\n",
        "#plt.show()"
      ],
      "metadata": {
        "id": "TfdeBX-PV7Sc"
      },
      "execution_count": null,
      "outputs": []
    },
    {
      "cell_type": "code",
      "source": [
        "x_selected_features = x_normalized[['time' ,'acc_x', 'mag_x', 'mag_y', 'acc_z', 'acc_y']]\n",
        "x_selected_features.iloc[450,:]"
      ],
      "metadata": {
        "colab": {
          "base_uri": "https://localhost:8080/"
        },
        "id": "NEYdcsuhWgUV",
        "outputId": "1aa44130-e81e-419e-b32d-7907f8cd8843"
      },
      "execution_count": 18,
      "outputs": [
        {
          "output_type": "execute_result",
          "data": {
            "text/plain": [
              "time     0.037281\n",
              "acc_x    0.735455\n",
              "mag_x    0.307008\n",
              "mag_y    0.810988\n",
              "acc_z    0.721418\n",
              "acc_y    0.541107\n",
              "Name: 450, dtype: float64"
            ]
          },
          "metadata": {},
          "execution_count": 18
        }
      ]
    },
    {
      "cell_type": "code",
      "source": [
        "#Creating a new data frame from the normalized x values and appending the y values\n",
        "new_df = x_normalized\n",
        "new_df['label'] = y.values\n",
        "new_df.head()"
      ],
      "metadata": {
        "id": "HdFHSvvUiE-C",
        "colab": {
          "base_uri": "https://localhost:8080/",
          "height": 206
        },
        "outputId": "241b8945-80bf-412d-c512-55ead5fbc244"
      },
      "execution_count": 19,
      "outputs": [
        {
          "output_type": "execute_result",
          "data": {
            "text/plain": [
              "       time     acc_x     acc_y     acc_z     gyr_x  gyr_y     gyr_z  \\\n",
              "0  0.037256  0.395371  0.792785  0.803907  0.810160    0.5  0.500000   \n",
              "1  0.037256  0.428158  0.840604  0.764834  0.475936    0.5  0.500000   \n",
              "2  0.037256  0.537126  0.762584  0.647612  0.058824    0.5  0.500000   \n",
              "3  0.037256  0.618451  0.603188  0.633864  0.500000    0.5  0.837037   \n",
              "4  0.037256  0.631308  0.469799  0.693922  0.459893    0.5  0.374074   \n",
              "\n",
              "      mag_x     mag_y     mag_z  label  \n",
              "0  0.328142  0.838206  0.636958      2  \n",
              "1  0.327030  0.833669  0.627146      2  \n",
              "2  0.340378  0.832157  0.621423      2  \n",
              "3  0.325918  0.835181  0.627964      2  \n",
              "4  0.328142  0.832661  0.632870      2  "
            ],
            "text/html": [
              "\n",
              "  <div id=\"df-60bfeae1-db0f-4f0b-8ea7-d20fe1a50c82\">\n",
              "    <div class=\"colab-df-container\">\n",
              "      <div>\n",
              "<style scoped>\n",
              "    .dataframe tbody tr th:only-of-type {\n",
              "        vertical-align: middle;\n",
              "    }\n",
              "\n",
              "    .dataframe tbody tr th {\n",
              "        vertical-align: top;\n",
              "    }\n",
              "\n",
              "    .dataframe thead th {\n",
              "        text-align: right;\n",
              "    }\n",
              "</style>\n",
              "<table border=\"1\" class=\"dataframe\">\n",
              "  <thead>\n",
              "    <tr style=\"text-align: right;\">\n",
              "      <th></th>\n",
              "      <th>time</th>\n",
              "      <th>acc_x</th>\n",
              "      <th>acc_y</th>\n",
              "      <th>acc_z</th>\n",
              "      <th>gyr_x</th>\n",
              "      <th>gyr_y</th>\n",
              "      <th>gyr_z</th>\n",
              "      <th>mag_x</th>\n",
              "      <th>mag_y</th>\n",
              "      <th>mag_z</th>\n",
              "      <th>label</th>\n",
              "    </tr>\n",
              "  </thead>\n",
              "  <tbody>\n",
              "    <tr>\n",
              "      <th>0</th>\n",
              "      <td>0.037256</td>\n",
              "      <td>0.395371</td>\n",
              "      <td>0.792785</td>\n",
              "      <td>0.803907</td>\n",
              "      <td>0.810160</td>\n",
              "      <td>0.5</td>\n",
              "      <td>0.500000</td>\n",
              "      <td>0.328142</td>\n",
              "      <td>0.838206</td>\n",
              "      <td>0.636958</td>\n",
              "      <td>2</td>\n",
              "    </tr>\n",
              "    <tr>\n",
              "      <th>1</th>\n",
              "      <td>0.037256</td>\n",
              "      <td>0.428158</td>\n",
              "      <td>0.840604</td>\n",
              "      <td>0.764834</td>\n",
              "      <td>0.475936</td>\n",
              "      <td>0.5</td>\n",
              "      <td>0.500000</td>\n",
              "      <td>0.327030</td>\n",
              "      <td>0.833669</td>\n",
              "      <td>0.627146</td>\n",
              "      <td>2</td>\n",
              "    </tr>\n",
              "    <tr>\n",
              "      <th>2</th>\n",
              "      <td>0.037256</td>\n",
              "      <td>0.537126</td>\n",
              "      <td>0.762584</td>\n",
              "      <td>0.647612</td>\n",
              "      <td>0.058824</td>\n",
              "      <td>0.5</td>\n",
              "      <td>0.500000</td>\n",
              "      <td>0.340378</td>\n",
              "      <td>0.832157</td>\n",
              "      <td>0.621423</td>\n",
              "      <td>2</td>\n",
              "    </tr>\n",
              "    <tr>\n",
              "      <th>3</th>\n",
              "      <td>0.037256</td>\n",
              "      <td>0.618451</td>\n",
              "      <td>0.603188</td>\n",
              "      <td>0.633864</td>\n",
              "      <td>0.500000</td>\n",
              "      <td>0.5</td>\n",
              "      <td>0.837037</td>\n",
              "      <td>0.325918</td>\n",
              "      <td>0.835181</td>\n",
              "      <td>0.627964</td>\n",
              "      <td>2</td>\n",
              "    </tr>\n",
              "    <tr>\n",
              "      <th>4</th>\n",
              "      <td>0.037256</td>\n",
              "      <td>0.631308</td>\n",
              "      <td>0.469799</td>\n",
              "      <td>0.693922</td>\n",
              "      <td>0.459893</td>\n",
              "      <td>0.5</td>\n",
              "      <td>0.374074</td>\n",
              "      <td>0.328142</td>\n",
              "      <td>0.832661</td>\n",
              "      <td>0.632870</td>\n",
              "      <td>2</td>\n",
              "    </tr>\n",
              "  </tbody>\n",
              "</table>\n",
              "</div>\n",
              "      <button class=\"colab-df-convert\" onclick=\"convertToInteractive('df-60bfeae1-db0f-4f0b-8ea7-d20fe1a50c82')\"\n",
              "              title=\"Convert this dataframe to an interactive table.\"\n",
              "              style=\"display:none;\">\n",
              "        \n",
              "  <svg xmlns=\"http://www.w3.org/2000/svg\" height=\"24px\"viewBox=\"0 0 24 24\"\n",
              "       width=\"24px\">\n",
              "    <path d=\"M0 0h24v24H0V0z\" fill=\"none\"/>\n",
              "    <path d=\"M18.56 5.44l.94 2.06.94-2.06 2.06-.94-2.06-.94-.94-2.06-.94 2.06-2.06.94zm-11 1L8.5 8.5l.94-2.06 2.06-.94-2.06-.94L8.5 2.5l-.94 2.06-2.06.94zm10 10l.94 2.06.94-2.06 2.06-.94-2.06-.94-.94-2.06-.94 2.06-2.06.94z\"/><path d=\"M17.41 7.96l-1.37-1.37c-.4-.4-.92-.59-1.43-.59-.52 0-1.04.2-1.43.59L10.3 9.45l-7.72 7.72c-.78.78-.78 2.05 0 2.83L4 21.41c.39.39.9.59 1.41.59.51 0 1.02-.2 1.41-.59l7.78-7.78 2.81-2.81c.8-.78.8-2.07 0-2.86zM5.41 20L4 18.59l7.72-7.72 1.47 1.35L5.41 20z\"/>\n",
              "  </svg>\n",
              "      </button>\n",
              "      \n",
              "  <style>\n",
              "    .colab-df-container {\n",
              "      display:flex;\n",
              "      flex-wrap:wrap;\n",
              "      gap: 12px;\n",
              "    }\n",
              "\n",
              "    .colab-df-convert {\n",
              "      background-color: #E8F0FE;\n",
              "      border: none;\n",
              "      border-radius: 50%;\n",
              "      cursor: pointer;\n",
              "      display: none;\n",
              "      fill: #1967D2;\n",
              "      height: 32px;\n",
              "      padding: 0 0 0 0;\n",
              "      width: 32px;\n",
              "    }\n",
              "\n",
              "    .colab-df-convert:hover {\n",
              "      background-color: #E2EBFA;\n",
              "      box-shadow: 0px 1px 2px rgba(60, 64, 67, 0.3), 0px 1px 3px 1px rgba(60, 64, 67, 0.15);\n",
              "      fill: #174EA6;\n",
              "    }\n",
              "\n",
              "    [theme=dark] .colab-df-convert {\n",
              "      background-color: #3B4455;\n",
              "      fill: #D2E3FC;\n",
              "    }\n",
              "\n",
              "    [theme=dark] .colab-df-convert:hover {\n",
              "      background-color: #434B5C;\n",
              "      box-shadow: 0px 1px 3px 1px rgba(0, 0, 0, 0.15);\n",
              "      filter: drop-shadow(0px 1px 2px rgba(0, 0, 0, 0.3));\n",
              "      fill: #FFFFFF;\n",
              "    }\n",
              "  </style>\n",
              "\n",
              "      <script>\n",
              "        const buttonEl =\n",
              "          document.querySelector('#df-60bfeae1-db0f-4f0b-8ea7-d20fe1a50c82 button.colab-df-convert');\n",
              "        buttonEl.style.display =\n",
              "          google.colab.kernel.accessAllowed ? 'block' : 'none';\n",
              "\n",
              "        async function convertToInteractive(key) {\n",
              "          const element = document.querySelector('#df-60bfeae1-db0f-4f0b-8ea7-d20fe1a50c82');\n",
              "          const dataTable =\n",
              "            await google.colab.kernel.invokeFunction('convertToInteractive',\n",
              "                                                     [key], {});\n",
              "          if (!dataTable) return;\n",
              "\n",
              "          const docLinkHtml = 'Like what you see? Visit the ' +\n",
              "            '<a target=\"_blank\" href=https://colab.research.google.com/notebooks/data_table.ipynb>data table notebook</a>'\n",
              "            + ' to learn more about interactive tables.';\n",
              "          element.innerHTML = '';\n",
              "          dataTable['output_type'] = 'display_data';\n",
              "          await google.colab.output.renderOutput(dataTable, element);\n",
              "          const docLink = document.createElement('div');\n",
              "          docLink.innerHTML = docLinkHtml;\n",
              "          element.appendChild(docLink);\n",
              "        }\n",
              "      </script>\n",
              "    </div>\n",
              "  </div>\n",
              "  "
            ]
          },
          "metadata": {},
          "execution_count": 19
        }
      ]
    },
    {
      "cell_type": "code",
      "source": [
        "new_df['label'].value_counts()"
      ],
      "metadata": {
        "colab": {
          "base_uri": "https://localhost:8080/"
        },
        "id": "eacRV4CiEcIU",
        "outputId": "ec6843a4-2256-49e3-bda5-e70916e95e48"
      },
      "execution_count": null,
      "outputs": [
        {
          "output_type": "execute_result",
          "data": {
            "text/plain": [
              "1    3405702\n",
              "4    2539806\n",
              "7    1928968\n",
              "5    1711687\n",
              "6    1703683\n",
              "9     405263\n",
              "8     368607\n",
              "3     145369\n",
              "2      54439\n",
              "Name: label, dtype: int64"
            ]
          },
          "metadata": {},
          "execution_count": 18
        }
      ]
    },
    {
      "cell_type": "code",
      "source": [
        "#Distribution of target variable 'label' using pie chart\n",
        "plt.pie(new_df['label'].value_counts(), autopct = '%1.1f%%');"
      ],
      "metadata": {
        "colab": {
          "base_uri": "https://localhost:8080/",
          "height": 248
        },
        "id": "w5auiXWqEmc8",
        "outputId": "0a08e20e-d8d3-4669-cde5-4fbff8c4bcff"
      },
      "execution_count": null,
      "outputs": [
        {
          "output_type": "display_data",
          "data": {
            "text/plain": [
              "<Figure size 432x288 with 1 Axes>"
            ],
            "image/png": "[encoded data removed]"
          },
          "metadata": {}
        }
      ]
    },
    {
      "cell_type": "markdown",
      "source": [
        "##Applying Logistic regression on new_df"
      ],
      "metadata": {
        "id": "DvCIIMtcFxIm"
      }
    },
    {
      "cell_type": "code",
      "source": [
        "#Seperating new_df into independent(x1) and dependent(y1) variables\n",
        "#x1 = new_df.drop('label', axis = 1)   #Independent features\n",
        "#y1 = new_df[['label']]     #Dependent feature"
      ],
      "metadata": {
        "id": "Ekat9gQuFwWw"
      },
      "execution_count": null,
      "outputs": []
    },
    {
      "cell_type": "code",
      "source": [
        "#Splitting the data into train and test\n",
        "#from sklearn.model_selection import train_test_split\n",
        "#x1_train,x1_test,y1_train,y1_test = train_test_split(x1,y1,test_size=0.25,random_state=20)"
      ],
      "metadata": {
        "id": "f2bgZS6EEmVc"
      },
      "execution_count": null,
      "outputs": []
    },
    {
      "cell_type": "code",
      "source": [
        "#x1_train.shape"
      ],
      "metadata": {
        "colab": {
          "base_uri": "https://localhost:8080/"
        },
        "id": "M9R2bH8OH1wa",
        "outputId": "c9553755-7111-4e30-ed95-21f0185e32a9"
      },
      "execution_count": null,
      "outputs": [
        {
          "output_type": "execute_result",
          "data": {
            "text/plain": [
              "(9197643, 10)"
            ]
          },
          "metadata": {},
          "execution_count": 24
        }
      ]
    },
    {
      "cell_type": "code",
      "source": [
        "#Model building and training on train data\n",
        "#from sklearn.linear_model import LogisticRegression\n",
        "#log_reg = LogisticRegression()\n",
        "#log_reg.fit(x1_train,y1_train)"
      ],
      "metadata": {
        "id": "1K3qZvS1El_T"
      },
      "execution_count": null,
      "outputs": []
    },
    {
      "cell_type": "markdown",
      "source": [
        "Model is not fitting on the entire huge dataset.\n",
        "Hence we take certain samples of data and try to build model on these samples"
      ],
      "metadata": {
        "id": "Ha27DHUJK47Z"
      }
    },
    {
      "cell_type": "code",
      "source": [
        "import random\n",
        "df1 = new_df.sample(30000)\n",
        "df2 = new_df.sample(40000)"
      ],
      "metadata": {
        "id": "-Eq-SqghXAZY"
      },
      "execution_count": 20,
      "outputs": []
    },
    {
      "cell_type": "code",
      "source": [
        "df1['label'].value_counts()"
      ],
      "metadata": {
        "colab": {
          "base_uri": "https://localhost:8080/"
        },
        "id": "4kNikb3PXFW-",
        "outputId": "135a6645-e15e-4b6f-9114-17fba45bba7d"
      },
      "execution_count": 21,
      "outputs": [
        {
          "output_type": "execute_result",
          "data": {
            "text/plain": [
              "1    8351\n",
              "4    6273\n",
              "7    4773\n",
              "6    4203\n",
              "5    4074\n",
              "9     979\n",
              "8     868\n",
              "3     356\n",
              "2     123\n",
              "Name: label, dtype: int64"
            ]
          },
          "metadata": {},
          "execution_count": 21
        }
      ]
    },
    {
      "cell_type": "code",
      "source": [
        "df2['label'].value_counts()"
      ],
      "metadata": {
        "colab": {
          "base_uri": "https://localhost:8080/"
        },
        "id": "1yRg66V1XJ7_",
        "outputId": "20c62a18-c25f-417b-e428-4909a641be76"
      },
      "execution_count": 22,
      "outputs": [
        {
          "output_type": "execute_result",
          "data": {
            "text/plain": [
              "1    11168\n",
              "4     8261\n",
              "7     6241\n",
              "5     5733\n",
              "6     5410\n",
              "9     1384\n",
              "8     1169\n",
              "3      441\n",
              "2      193\n",
              "Name: label, dtype: int64"
            ]
          },
          "metadata": {},
          "execution_count": 22
        }
      ]
    },
    {
      "cell_type": "code",
      "source": [
        "#distribution of target variable 'label' in sample df1\n",
        "plt.pie(df1['label'].value_counts(), autopct = '%1.1f%%');"
      ],
      "metadata": {
        "colab": {
          "base_uri": "https://localhost:8080/",
          "height": 248
        },
        "id": "1A4bkLIdXMwe",
        "outputId": "5f5e926e-c125-4a1a-fef8-1000538ed724"
      },
      "execution_count": 23,
      "outputs": [
        {
          "output_type": "display_data",
          "data": {
            "text/plain": [
              "<Figure size 432x288 with 1 Axes>"
            ],
            "image/png": "[encoded data removed]"
          },
          "metadata": {}
        }
      ]
    },
    {
      "cell_type": "code",
      "source": [
        "#distribution of target variable 'label' in sample df2\n",
        "plt.pie(df2['label'].value_counts(), autopct = '%1.1f%%');"
      ],
      "metadata": {
        "colab": {
          "base_uri": "https://localhost:8080/",
          "height": 248
        },
        "id": "YmA2F8YZXWmI",
        "outputId": "49ca1a50-96a5-4541-cb1f-59b5a9aeef9c"
      },
      "execution_count": 24,
      "outputs": [
        {
          "output_type": "display_data",
          "data": {
            "text/plain": [
              "<Figure size 432x288 with 1 Axes>"
            ],
            "image/png": "[encoded data removed]"
          },
          "metadata": {}
        }
      ]
    },
    {
      "cell_type": "code",
      "source": [
        "#distribution of target variable 'label' in entire population\n",
        "plt.pie(new_df['label'].value_counts(), autopct = '%1.1f%%');"
      ],
      "metadata": {
        "colab": {
          "base_uri": "https://localhost:8080/",
          "height": 248
        },
        "id": "8IDvfpcUXkgU",
        "outputId": "2c571f1f-b58f-42e9-cc48-35708fee087b"
      },
      "execution_count": 25,
      "outputs": [
        {
          "output_type": "display_data",
          "data": {
            "text/plain": [
              "<Figure size 432x288 with 1 Axes>"
            ],
            "image/png": "[encoded data removed]"
          },
          "metadata": {}
        }
      ]
    },
    {
      "cell_type": "markdown",
      "source": [
        "#Bulding the logistic regression model on df1"
      ],
      "metadata": {
        "id": "EdE-ZFejLyVc"
      }
    },
    {
      "cell_type": "code",
      "source": [
        "#Seperating df1 into independent(x1) and dependent(y1) variables\n",
        "x1 = df1.drop('label', axis = 1)   #Independent features\n",
        "y1 = df1[['label']]    #Dependent feature"
      ],
      "metadata": {
        "id": "GxHVUC-jLtRN"
      },
      "execution_count": 26,
      "outputs": []
    },
    {
      "cell_type": "code",
      "source": [
        "#Splitting the data into train and test\n",
        "from sklearn.model_selection import train_test_split\n",
        "x1_train,x1_test,y1_train,y1_test = train_test_split(x1,y1,test_size=0.25,random_state=20)\n",
        "x1_train.shape"
      ],
      "metadata": {
        "colab": {
          "base_uri": "https://localhost:8080/"
        },
        "id": "A1pFF77dL7wz",
        "outputId": "c64f9044-2892-4859-cffc-c7e330fdb8c7"
      },
      "execution_count": 27,
      "outputs": [
        {
          "output_type": "execute_result",
          "data": {
            "text/plain": [
              "(22500, 10)"
            ]
          },
          "metadata": {},
          "execution_count": 27
        }
      ]
    },
    {
      "cell_type": "code",
      "source": [
        "#Model building and training on train data\n",
        "from sklearn.linear_model import LogisticRegression\n",
        "log_reg = LogisticRegression()\n",
        "log_reg.fit(x1_train,y1_train)"
      ],
      "metadata": {
        "colab": {
          "base_uri": "https://localhost:8080/"
        },
        "id": "uQaP0oKEL7tU",
        "outputId": "247049ab-759d-4e41-a515-1e3cf0493083"
      },
      "execution_count": 28,
      "outputs": [
        {
          "output_type": "execute_result",
          "data": {
            "text/plain": [
              "LogisticRegression()"
            ]
          },
          "metadata": {},
          "execution_count": 28
        }
      ]
    },
    {
      "cell_type": "code",
      "source": [
        "#Model prediction on test data\n",
        "y1_pred = log_reg.predict(x1_test)\n",
        "y1_pred"
      ],
      "metadata": {
        "colab": {
          "base_uri": "https://localhost:8080/"
        },
        "id": "drF9snGdL7lD",
        "outputId": "16b52c26-64ed-45e5-e88b-7f0847c32ad8"
      },
      "execution_count": 29,
      "outputs": [
        {
          "output_type": "execute_result",
          "data": {
            "text/plain": [
              "array([1, 1, 7, ..., 9, 4, 4])"
            ]
          },
          "metadata": {},
          "execution_count": 29
        }
      ]
    },
    {
      "cell_type": "code",
      "source": [
        "#Model Evaluation\n",
        "from sklearn.metrics import confusion_matrix, classification_report, accuracy_score\n",
        "accuracy = accuracy_score(y1_test,y1_pred)\n",
        "print('Accuracy: ',accuracy,'\\n')\n",
        "print('Confusion_Matrix: ',confusion_matrix(y1_test,y1_pred),'\\n')\n",
        "print('Classification_Report: ', classification_report(y1_test,y1_pred))\n"
      ],
      "metadata": {
        "colab": {
          "base_uri": "https://localhost:8080/"
        },
        "id": "d6wvfqzbL7h0",
        "outputId": "c2e8fba2-5037-4ad3-f748-ae5caee01699"
      },
      "execution_count": 32,
      "outputs": [
        {
          "output_type": "stream",
          "name": "stdout",
          "text": [
            "Accuracy:  0.4261333333333333 \n",
            "\n",
            "Confusion_Matrix:  [[1159    0    0  560   90   90  106    0   50]\n",
            " [  14    0    0    3    2    1    5    0    0]\n",
            " [  54    0    0    8   14    7   14    0    2]\n",
            " [ 533    0    0  863   52   25   76    0   15]\n",
            " [ 181    0    0  137  436    0  249    0   10]\n",
            " [ 488    0    0  403   14  135   43    0    1]\n",
            " [ 256    0    0  171  225    8  525    0    4]\n",
            " [  81    0    0   97   17    3    9    0    4]\n",
            " [ 143    0    0   15   16    1    7    0   78]] \n",
            "\n",
            "Classification_Report:                precision    recall  f1-score   support\n",
            "\n",
            "           1       0.40      0.56      0.47      2055\n",
            "           2       0.00      0.00      0.00        25\n",
            "           3       0.00      0.00      0.00        99\n",
            "           4       0.38      0.55      0.45      1564\n",
            "           5       0.50      0.43      0.46      1013\n",
            "           6       0.50      0.12      0.20      1084\n",
            "           7       0.51      0.44      0.47      1189\n",
            "           8       0.00      0.00      0.00       211\n",
            "           9       0.48      0.30      0.37       260\n",
            "\n",
            "    accuracy                           0.43      7500\n",
            "   macro avg       0.31      0.27      0.27      7500\n",
            "weighted avg       0.43      0.43      0.40      7500\n",
            "\n"
          ]
        }
      ]
    },
    {
      "cell_type": "markdown",
      "source": [
        "#Applying Decision Tree on df2"
      ],
      "metadata": {
        "id": "30sjWKsRQWOn"
      }
    },
    {
      "cell_type": "code",
      "source": [
        "df2['label'].value_counts()"
      ],
      "metadata": {
        "colab": {
          "base_uri": "https://localhost:8080/"
        },
        "id": "f4zklBRSOSnk",
        "outputId": "e7d59024-c3da-485e-fbf0-b5f280091dfd"
      },
      "execution_count": 33,
      "outputs": [
        {
          "output_type": "execute_result",
          "data": {
            "text/plain": [
              "1    11168\n",
              "4     8261\n",
              "7     6241\n",
              "5     5733\n",
              "6     5410\n",
              "9     1384\n",
              "8     1169\n",
              "3      441\n",
              "2      193\n",
              "Name: label, dtype: int64"
            ]
          },
          "metadata": {},
          "execution_count": 33
        }
      ]
    },
    {
      "cell_type": "code",
      "source": [
        "#Distribution of target variable 'label' on df2\n",
        "sns.countplot(df2['label'])"
      ],
      "metadata": {
        "colab": {
          "base_uri": "https://localhost:8080/",
          "height": 297
        },
        "id": "uVHOOVsIOSgj",
        "outputId": "4abb5ffc-be91-4e7f-c1dd-b31acd7b270f"
      },
      "execution_count": 34,
      "outputs": [
        {
          "output_type": "execute_result",
          "data": {
            "text/plain": [
              "<matplotlib.axes._subplots.AxesSubplot at 0x7f96a9d47710>"
            ]
          },
          "metadata": {},
          "execution_count": 34
        },
        {
          "output_type": "display_data",
          "data": {
            "text/plain": [
              "<Figure size 432x288 with 1 Axes>"
            ],
            "image/png": "[encoded data removed]"
          },
          "metadata": {
            "needs_background": "light"
          }
        }
      ]
    },
    {
      "cell_type": "markdown",
      "source": [
        "As we can see, there is lot of imbalance in the target class , so we can balance it by using oversampling technique \"SMOTE\""
      ],
      "metadata": {
        "id": "RpXIl4iWQ0Mw"
      }
    },
    {
      "cell_type": "code",
      "source": [
        "#Splitting the data into x2 and y2(independent & dependent features)\n",
        "x2 = df2.drop('label', axis = 1)\n",
        "y2 = df2[['label']]"
      ],
      "metadata": {
        "id": "6Ex6FNWaOSY9"
      },
      "execution_count": 35,
      "outputs": []
    },
    {
      "cell_type": "markdown",
      "source": [
        "###Decision Trees"
      ],
      "metadata": {
        "id": "ZDx6qBg-Rdmu"
      }
    },
    {
      "cell_type": "code",
      "source": [
        "#Spitting into train and test\n",
        "x2_train, x2_test, y2_train, y2_test = train_test_split(x2, y2, test_size = 0.30, random_state = 25)"
      ],
      "metadata": {
        "id": "NGK5x2L0OSP8"
      },
      "execution_count": 36,
      "outputs": []
    },
    {
      "cell_type": "code",
      "source": [
        "type(y2_train)"
      ],
      "metadata": {
        "colab": {
          "base_uri": "https://localhost:8080/"
        },
        "id": "53p3VH1HYybT",
        "outputId": "90525fda-1ba7-4d37-c8b3-6a7faf730a39"
      },
      "execution_count": 37,
      "outputs": [
        {
          "output_type": "execute_result",
          "data": {
            "text/plain": [
              "pandas.core.frame.DataFrame"
            ]
          },
          "metadata": {},
          "execution_count": 37
        }
      ]
    },
    {
      "cell_type": "code",
      "source": [
        "#SMOTE\n",
        "from imblearn.over_sampling import SMOTE\n",
        "oversample = SMOTE()\n",
        "x2_train, y2_train = oversample.fit_resample(x2_train, y2_train)\n",
        "print('Classes and number of values in trainset after SMOTE:',y2_train.value_counts(),'\\n')"
      ],
      "metadata": {
        "colab": {
          "base_uri": "https://localhost:8080/"
        },
        "id": "ueJupA3yQy4A",
        "outputId": "d7378aa1-5f0f-4908-c483-625bec40f4bd"
      },
      "execution_count": 38,
      "outputs": [
        {
          "output_type": "stream",
          "name": "stdout",
          "text": [
            "Classes and number of values in trainset after SMOTE: label\n",
            "1        7809\n",
            "2        7809\n",
            "3        7809\n",
            "4        7809\n",
            "5        7809\n",
            "6        7809\n",
            "7        7809\n",
            "8        7809\n",
            "9        7809\n",
            "dtype: int64 \n",
            "\n"
          ]
        }
      ]
    },
    {
      "cell_type": "code",
      "source": [
        "#importing decision tree\n",
        "from sklearn.tree import DecisionTreeClassifier\n",
        "dt_model = DecisionTreeClassifier(random_state = 1000, max_depth = 5)"
      ],
      "metadata": {
        "id": "uaT9ES1SQysf"
      },
      "execution_count": 39,
      "outputs": []
    },
    {
      "cell_type": "code",
      "source": [
        "#Training the model\n",
        "dt_model.fit(x2_train,y2_train)"
      ],
      "metadata": {
        "colab": {
          "base_uri": "https://localhost:8080/"
        },
        "id": "AePc6fAXQyfu",
        "outputId": "3050c4db-2be2-4163-a3f8-68837c8e5009"
      },
      "execution_count": 40,
      "outputs": [
        {
          "output_type": "execute_result",
          "data": {
            "text/plain": [
              "DecisionTreeClassifier(max_depth=5, random_state=1000)"
            ]
          },
          "metadata": {},
          "execution_count": 40
        }
      ]
    },
    {
      "cell_type": "code",
      "source": [
        "#Predictions on test data\n",
        "y2_pred = dt_model.predict(x2_test)\n",
        "print('Model.predict : ',y2_pred)"
      ],
      "metadata": {
        "colab": {
          "base_uri": "https://localhost:8080/"
        },
        "id": "ROHgNyibZyVJ",
        "outputId": "b68a9edd-e42e-4ca1-c5ab-394314aab045"
      },
      "execution_count": 41,
      "outputs": [
        {
          "output_type": "stream",
          "name": "stdout",
          "text": [
            "Model.predict :  [4 4 9 ... 1 4 5]\n"
          ]
        }
      ]
    },
    {
      "cell_type": "code",
      "source": [
        "#Model Evaluation\n",
        "from sklearn.metrics import confusion_matrix, classification_report, accuracy_score\n",
        "accuracy = accuracy_score(y2_test,y2_pred)\n",
        "print('Accuracy: ',accuracy)\n",
        "print(confusion_matrix(y2_test,y2_pred))\n",
        "print(classification_report(y2_test,y2_pred))"
      ],
      "metadata": {
        "colab": {
          "base_uri": "https://localhost:8080/"
        },
        "id": "JzBp5q60ZyMR",
        "outputId": "2a30e5a1-1caa-42e6-9a30-834742c0142e"
      },
      "execution_count": 42,
      "outputs": [
        {
          "output_type": "stream",
          "name": "stdout",
          "text": [
            "Accuracy:  0.5383333333333333\n",
            "[[1739  153   31  795   90  206  172   67  106]\n",
            " [   7   29   10    0    3    0    2    0    1]\n",
            " [  17   22   58    2   15   13    0    1    2]\n",
            " [ 249   10    0 1557   16  227  227  188   15]\n",
            " [ 131    0    1  289  685   80  488   22   39]\n",
            " [  73    8    0  508   17  908   55   47   31]\n",
            " [ 112   12    0  235  349   45 1063   10   15]\n",
            " [  28   16    5   88    5   27   52  115    4]\n",
            " [  37    2    0   23    5   10   24    0  306]]\n",
            "              precision    recall  f1-score   support\n",
            "\n",
            "           1       0.73      0.52      0.60      3359\n",
            "           2       0.12      0.56      0.19        52\n",
            "           3       0.55      0.45      0.49       130\n",
            "           4       0.45      0.63      0.52      2489\n",
            "           5       0.58      0.39      0.47      1735\n",
            "           6       0.60      0.55      0.57      1647\n",
            "           7       0.51      0.58      0.54      1841\n",
            "           8       0.26      0.34      0.29       340\n",
            "           9       0.59      0.75      0.66       407\n",
            "\n",
            "    accuracy                           0.54     12000\n",
            "   macro avg       0.49      0.53      0.48     12000\n",
            "weighted avg       0.57      0.54      0.54     12000\n",
            "\n"
          ]
        }
      ]
    },
    {
      "cell_type": "markdown",
      "source": [
        "#Let us Apply random forest on sample df3"
      ],
      "metadata": {
        "id": "qbSxBpMbbDSx"
      }
    },
    {
      "cell_type": "code",
      "source": [
        "df3 = new_df.sample(50000)"
      ],
      "metadata": {
        "id": "oeBxEjBSaq1H"
      },
      "execution_count": 43,
      "outputs": []
    },
    {
      "cell_type": "code",
      "source": [
        "df3['label'].value_counts()"
      ],
      "metadata": {
        "colab": {
          "base_uri": "https://localhost:8080/"
        },
        "id": "kMHrUXC9a14J",
        "outputId": "89a37b24-a74d-48e2-c782-89d2181e0cd6"
      },
      "execution_count": 44,
      "outputs": [
        {
          "output_type": "execute_result",
          "data": {
            "text/plain": [
              "1    13854\n",
              "4    10464\n",
              "7     7816\n",
              "5     6937\n",
              "6     6907\n",
              "9     1675\n",
              "8     1505\n",
              "3      587\n",
              "2      255\n",
              "Name: label, dtype: int64"
            ]
          },
          "metadata": {},
          "execution_count": 44
        }
      ]
    },
    {
      "cell_type": "code",
      "source": [
        "#Splitting the data into x3 and y3(independent & dependent features)\n",
        "x3 = df3.drop('label', axis = 1)\n",
        "y3 = df3[['label']]"
      ],
      "metadata": {
        "id": "IpK6X8oWa10f"
      },
      "execution_count": 45,
      "outputs": []
    },
    {
      "cell_type": "code",
      "source": [
        "#Spitting into train and test\n",
        "x3_train, x3_test, y3_train, y3_test = train_test_split(x3, y3, test_size = 0.30, random_state = 30)\n"
      ],
      "metadata": {
        "id": "UadIt-lia1xc"
      },
      "execution_count": 46,
      "outputs": []
    },
    {
      "cell_type": "code",
      "source": [
        "#SMOTE\n",
        "from imblearn.over_sampling import SMOTE\n",
        "oversample = SMOTE()\n",
        "x3_train, y3_train = oversample.fit_resample(x3_train, y3_train)\n",
        "print('Classes and number of values in trainset after SMOTE:',y3_train.value_counts(),'\\n')"
      ],
      "metadata": {
        "colab": {
          "base_uri": "https://localhost:8080/"
        },
        "id": "C9ByUut0a1tY",
        "outputId": "e8cd5659-77ae-4740-ca0b-f6f893bbaa8a"
      },
      "execution_count": 47,
      "outputs": [
        {
          "output_type": "stream",
          "name": "stdout",
          "text": [
            "Classes and number of values in trainset after SMOTE: label\n",
            "1        9690\n",
            "2        9690\n",
            "3        9690\n",
            "4        9690\n",
            "5        9690\n",
            "6        9690\n",
            "7        9690\n",
            "8        9690\n",
            "9        9690\n",
            "dtype: int64 \n",
            "\n"
          ]
        }
      ]
    },
    {
      "cell_type": "code",
      "source": [
        "#Importing Random Forest\n",
        "from sklearn.ensemble import RandomForestClassifier\n",
        "rf_model = RandomForestClassifier(n_estimators=10, criterion='entropy', random_state=500)"
      ],
      "metadata": {
        "id": "K_rfNFZ3a1kF"
      },
      "execution_count": 48,
      "outputs": []
    },
    {
      "cell_type": "code",
      "source": [
        "#Training the model\n",
        "rf_model.fit(x3_train,y3_train)"
      ],
      "metadata": {
        "colab": {
          "base_uri": "https://localhost:8080/"
        },
        "id": "ofH6c12EbmU0",
        "outputId": "f45fc81f-f45f-40a1-90e6-b1ac2f5080d5"
      },
      "execution_count": 49,
      "outputs": [
        {
          "output_type": "execute_result",
          "data": {
            "text/plain": [
              "RandomForestClassifier(criterion='entropy', n_estimators=10, random_state=500)"
            ]
          },
          "metadata": {},
          "execution_count": 49
        }
      ]
    },
    {
      "cell_type": "code",
      "source": [
        "#Predictions on test data\n",
        "y3_pred = rf_model.predict(x3_test)\n",
        "print('Model.predict : ',y3_pred)"
      ],
      "metadata": {
        "colab": {
          "base_uri": "https://localhost:8080/"
        },
        "id": "EZKQv8BGbmML",
        "outputId": "57ba9eaf-8b44-45ea-f4bb-c2b47771dabc"
      },
      "execution_count": 50,
      "outputs": [
        {
          "output_type": "stream",
          "name": "stdout",
          "text": [
            "Model.predict :  [7 4 1 ... 4 4 6]\n"
          ]
        }
      ]
    },
    {
      "cell_type": "code",
      "source": [
        "#Model Evaluation\n",
        "from sklearn.metrics import confusion_matrix, classification_report, accuracy_score\n",
        "accuracy = accuracy_score(y3_test,y3_pred)\n",
        "print('Accuracy: ',accuracy,'\\n')\n",
        "print(confusion_matrix(y3_test,y3_pred),'\\n')\n",
        "print(classification_report(y3_test,y3_pred))"
      ],
      "metadata": {
        "colab": {
          "base_uri": "https://localhost:8080/"
        },
        "id": "4LkeOrBDbmDt",
        "outputId": "f6425580-dab6-48c2-f7bc-88e1b0e97bc0"
      },
      "execution_count": 52,
      "outputs": [
        {
          "output_type": "stream",
          "name": "stdout",
          "text": [
            "Accuracy:  0.9084 \n",
            "\n",
            "[[3852    2   17  178   12   34    6   63    0]\n",
            " [   0   61   12    2    1    0    0    2    0]\n",
            " [   6    7  131    7    2    4    0    5    0]\n",
            " [ 188    1   10 2729   19   79    6  111    0]\n",
            " [   9    0   17   29 1991    9   25    2    7]\n",
            " [  49    1   15  137   12 1805    3   46    1]\n",
            " [   6    0    4   18   47    6 2239    5    3]\n",
            " [  34    0   12   52    0   25    3  311    0]\n",
            " [   4    0    2    1   13    1    2    0  507]] \n",
            "\n",
            "              precision    recall  f1-score   support\n",
            "\n",
            "           1       0.93      0.93      0.93      4164\n",
            "           2       0.85      0.78      0.81        78\n",
            "           3       0.60      0.81      0.69       162\n",
            "           4       0.87      0.87      0.87      3143\n",
            "           5       0.95      0.95      0.95      2089\n",
            "           6       0.92      0.87      0.90      2069\n",
            "           7       0.98      0.96      0.97      2328\n",
            "           8       0.57      0.71      0.63       437\n",
            "           9       0.98      0.96      0.97       530\n",
            "\n",
            "    accuracy                           0.91     15000\n",
            "   macro avg       0.85      0.87      0.86     15000\n",
            "weighted avg       0.91      0.91      0.91     15000\n",
            "\n"
          ]
        }
      ]
    },
    {
      "cell_type": "markdown",
      "source": [
        "#Let us Apply SVC on sample df4 without taking SMOTE"
      ],
      "metadata": {
        "id": "bLbKVMYJdTRu"
      }
    },
    {
      "cell_type": "code",
      "source": [
        "df4 = new_df.sample(60000)"
      ],
      "metadata": {
        "id": "zNS8nySedSB0"
      },
      "execution_count": 53,
      "outputs": []
    },
    {
      "cell_type": "code",
      "source": [
        "df4['label'].value_counts()"
      ],
      "metadata": {
        "colab": {
          "base_uri": "https://localhost:8080/"
        },
        "id": "QHgg_gHjdR9l",
        "outputId": "95e4dee6-98dd-4d40-91f1-616ce6f4aa55"
      },
      "execution_count": 54,
      "outputs": [
        {
          "output_type": "execute_result",
          "data": {
            "text/plain": [
              "1    16632\n",
              "4    12389\n",
              "7     9507\n",
              "5     8389\n",
              "6     8376\n",
              "9     1951\n",
              "8     1760\n",
              "3      727\n",
              "2      269\n",
              "Name: label, dtype: int64"
            ]
          },
          "metadata": {},
          "execution_count": 54
        }
      ]
    },
    {
      "cell_type": "code",
      "source": [
        "#Splitting the data into x4 and y4(independent & dependent features)\n",
        "x4 = df4.drop('label', axis = 1)\n",
        "y4 = df4[['label']]"
      ],
      "metadata": {
        "id": "4hRMDkaSdR4z"
      },
      "execution_count": 55,
      "outputs": []
    },
    {
      "cell_type": "code",
      "source": [
        "#Spitting into train and test\n",
        "x4_train, x4_test, y4_train, y4_test = train_test_split(x4, y4, test_size = 0.25, random_state = 50)\n",
        "\n",
        "#Importing SVC\n",
        "from sklearn.svm import SVC\n",
        "svc_model = SVC()\n",
        "\n",
        "#Training the model\n",
        "svc_model.fit(x4_train,y4_train)\n",
        "\n",
        "#Predictions on test data\n",
        "y4_pred = svc_model.predict(x4_test)\n",
        "print('Model.predict : ',y4_pred)\n",
        "\n",
        "#Model Evaluation\n",
        "from sklearn.metrics import confusion_matrix, classification_report, accuracy_score\n",
        "accuracy = accuracy_score(y4_test,y4_pred)\n",
        "print('Accuracy: ',accuracy)\n",
        "print(confusion_matrix(y4_test,y4_pred))\n",
        "print(classification_report(y4_test,y4_pred))"
      ],
      "metadata": {
        "colab": {
          "base_uri": "https://localhost:8080/"
        },
        "id": "sazmC3oKdRxM",
        "outputId": "35d9135b-c9f0-4894-f100-fe677ac44ac9"
      },
      "execution_count": 56,
      "outputs": [
        {
          "output_type": "stream",
          "name": "stdout",
          "text": [
            "Model.predict :  [4 9 4 ... 7 1 1]\n",
            "Accuracy:  0.737\n",
            "[[3550    0    2  342   16  141   28    1    6]\n",
            " [  18    9   18    8    3    3    2    0    0]\n",
            " [  46    1   57   28   10   24   13    0    0]\n",
            " [ 661    0    0 2139   33  179   96    4    7]\n",
            " [  37    0    1   96 1574   29  343    1    4]\n",
            " [ 402    1    0  418   26 1228   23    0    1]\n",
            " [  30    0    0  143  178   10 2062    0    2]\n",
            " [ 183    0   11  148    5   60   26   18    3]\n",
            " [   9    0    0   20   32    4    8    1  418]]\n",
            "              precision    recall  f1-score   support\n",
            "\n",
            "           1       0.72      0.87      0.79      4086\n",
            "           2       0.82      0.15      0.25        61\n",
            "           3       0.64      0.32      0.43       179\n",
            "           4       0.64      0.69      0.66      3119\n",
            "           5       0.84      0.75      0.79      2085\n",
            "           6       0.73      0.59      0.65      2099\n",
            "           7       0.79      0.85      0.82      2425\n",
            "           8       0.72      0.04      0.08       454\n",
            "           9       0.95      0.85      0.90       492\n",
            "\n",
            "    accuracy                           0.74     15000\n",
            "   macro avg       0.76      0.57      0.60     15000\n",
            "weighted avg       0.74      0.74      0.72     15000\n",
            "\n"
          ]
        }
      ]
    },
    {
      "cell_type": "code",
      "source": [
        "#Getting model parameters\n",
        "svc_model.get_params()"
      ],
      "metadata": {
        "colab": {
          "base_uri": "https://localhost:8080/"
        },
        "id": "z_-SSZD_4U6c",
        "outputId": "70740002-bcdd-4c4b-fcb3-3de9463fb04c"
      },
      "execution_count": 57,
      "outputs": [
        {
          "output_type": "execute_result",
          "data": {
            "text/plain": [
              "{'C': 1.0,\n",
              " 'break_ties': False,\n",
              " 'cache_size': 200,\n",
              " 'class_weight': None,\n",
              " 'coef0': 0.0,\n",
              " 'decision_function_shape': 'ovr',\n",
              " 'degree': 3,\n",
              " 'gamma': 'scale',\n",
              " 'kernel': 'rbf',\n",
              " 'max_iter': -1,\n",
              " 'probability': False,\n",
              " 'random_state': None,\n",
              " 'shrinking': True,\n",
              " 'tol': 0.001,\n",
              " 'verbose': False}"
            ]
          },
          "metadata": {},
          "execution_count": 57
        }
      ]
    },
    {
      "cell_type": "markdown",
      "source": [
        "#GridSearchCV"
      ],
      "metadata": {
        "id": "J_GFLgZO46jY"
      }
    },
    {
      "cell_type": "code",
      "source": [
        "param_grid = {'C':[0.1,1], 'gamma':[1,0.1], 'kernel':['rbf']}"
      ],
      "metadata": {
        "id": "czCLOQ684U3Q"
      },
      "execution_count": 65,
      "outputs": []
    },
    {
      "cell_type": "code",
      "source": [
        "from sklearn.model_selection import GridSearchCV\n",
        "grid = GridSearchCV(SVC(), param_grid, refit = True, verbose = 3)"
      ],
      "metadata": {
        "id": "mXdtC0724Uzl"
      },
      "execution_count": 66,
      "outputs": []
    },
    {
      "cell_type": "code",
      "source": [
        "#Fitting the grid to our training set\n",
        "grid.fit(x4_train,y4_train)"
      ],
      "metadata": {
        "colab": {
          "base_uri": "https://localhost:8080/"
        },
        "id": "wIyOQjjA4UtT",
        "outputId": "062aacf0-03e5-475b-97e8-7748f8976fff"
      },
      "execution_count": 67,
      "outputs": [
        {
          "output_type": "stream",
          "name": "stdout",
          "text": [
            "Fitting 5 folds for each of 4 candidates, totalling 20 fits\n",
            "[CV 1/5] END ........C=0.1, gamma=1, kernel=rbf;, score=0.583 total time= 1.8min\n",
            "[CV 2/5] END ........C=0.1, gamma=1, kernel=rbf;, score=0.582 total time= 1.7min\n",
            "[CV 3/5] END ........C=0.1, gamma=1, kernel=rbf;, score=0.591 total time= 1.8min\n",
            "[CV 4/5] END ........C=0.1, gamma=1, kernel=rbf;, score=0.591 total time= 1.7min\n",
            "[CV 5/5] END ........C=0.1, gamma=1, kernel=rbf;, score=0.591 total time= 1.8min\n",
            "[CV 1/5] END ......C=0.1, gamma=0.1, kernel=rbf;, score=0.412 total time= 2.2min\n",
            "[CV 2/5] END ......C=0.1, gamma=0.1, kernel=rbf;, score=0.417 total time= 2.2min\n",
            "[CV 3/5] END ......C=0.1, gamma=0.1, kernel=rbf;, score=0.420 total time= 2.1min\n",
            "[CV 4/5] END ......C=0.1, gamma=0.1, kernel=rbf;, score=0.423 total time= 2.2min\n",
            "[CV 5/5] END ......C=0.1, gamma=0.1, kernel=rbf;, score=0.420 total time= 2.2min\n",
            "[CV 1/5] END ..........C=1, gamma=1, kernel=rbf;, score=0.666 total time= 1.3min\n",
            "[CV 2/5] END ..........C=1, gamma=1, kernel=rbf;, score=0.663 total time= 1.3min\n",
            "[CV 3/5] END ..........C=1, gamma=1, kernel=rbf;, score=0.673 total time= 1.4min\n",
            "[CV 4/5] END ..........C=1, gamma=1, kernel=rbf;, score=0.670 total time= 1.4min\n",
            "[CV 5/5] END ..........C=1, gamma=1, kernel=rbf;, score=0.674 total time= 1.4min\n",
            "[CV 1/5] END ........C=1, gamma=0.1, kernel=rbf;, score=0.470 total time= 2.0min\n",
            "[CV 2/5] END ........C=1, gamma=0.1, kernel=rbf;, score=0.470 total time= 2.0min\n",
            "[CV 3/5] END ........C=1, gamma=0.1, kernel=rbf;, score=0.476 total time= 2.0min\n",
            "[CV 4/5] END ........C=1, gamma=0.1, kernel=rbf;, score=0.483 total time= 2.0min\n",
            "[CV 5/5] END ........C=1, gamma=0.1, kernel=rbf;, score=0.476 total time= 2.0min\n"
          ]
        },
        {
          "output_type": "execute_result",
          "data": {
            "text/plain": [
              "GridSearchCV(estimator=SVC(),\n",
              "             param_grid={'C': [0.1, 1], 'gamma': [1, 0.1], 'kernel': ['rbf']},\n",
              "             verbose=3)"
            ]
          },
          "metadata": {},
          "execution_count": 67
        }
      ]
    },
    {
      "cell_type": "code",
      "source": [
        "#Inspecting best parameters and best estimators found by GridsearchCV\n",
        "grid.best_params_"
      ],
      "metadata": {
        "colab": {
          "base_uri": "https://localhost:8080/"
        },
        "id": "WsgQKucF4UpV",
        "outputId": "f7fe381f-6aa3-4320-8152-8b0aeb62d31b"
      },
      "execution_count": 68,
      "outputs": [
        {
          "output_type": "execute_result",
          "data": {
            "text/plain": [
              "{'C': 1, 'gamma': 1, 'kernel': 'rbf'}"
            ]
          },
          "metadata": {},
          "execution_count": 68
        }
      ]
    },
    {
      "cell_type": "code",
      "source": [
        "grid.best_estimator_"
      ],
      "metadata": {
        "colab": {
          "base_uri": "https://localhost:8080/"
        },
        "id": "BKIzbSSh4Uf7",
        "outputId": "9a112e26-0905-4c5b-ea50-e99cc0a59dd6"
      },
      "execution_count": 69,
      "outputs": [
        {
          "output_type": "execute_result",
          "data": {
            "text/plain": [
              "SVC(C=1, gamma=1)"
            ]
          },
          "metadata": {},
          "execution_count": 69
        }
      ]
    },
    {
      "cell_type": "code",
      "source": [
        "#Re-run predictions on this grid object \n",
        "grid_predictions = grid.predict(x4_test)"
      ],
      "metadata": {
        "id": "4_7ku7Ae5rWD"
      },
      "execution_count": 70,
      "outputs": []
    },
    {
      "cell_type": "code",
      "source": [
        "accuracy = accuracy_score(y4_test,grid_predictions)\n",
        "print('Accuracy: ',accuracy,'\\n')\n",
        "print(classification_report(y4_test,grid_predictions))"
      ],
      "metadata": {
        "colab": {
          "base_uri": "https://localhost:8080/"
        },
        "id": "JkB1QENF5rT_",
        "outputId": "6a28ada5-c552-46fd-b3aa-6c8b1252f9ff"
      },
      "execution_count": 72,
      "outputs": [
        {
          "output_type": "stream",
          "name": "stdout",
          "text": [
            "Accuracy:  0.6768 \n",
            "\n",
            "              precision    recall  f1-score   support\n",
            "\n",
            "           1       0.67      0.82      0.74      4086\n",
            "           2       1.00      0.02      0.03        61\n",
            "           3       0.60      0.16      0.26       179\n",
            "           4       0.54      0.68      0.60      3119\n",
            "           5       0.81      0.72      0.76      2085\n",
            "           6       0.69      0.37      0.48      2099\n",
            "           7       0.76      0.82      0.79      2425\n",
            "           8       0.00      0.00      0.00       454\n",
            "           9       0.93      0.83      0.88       492\n",
            "\n",
            "    accuracy                           0.68     15000\n",
            "   macro avg       0.67      0.49      0.50     15000\n",
            "weighted avg       0.67      0.68      0.66     15000\n",
            "\n"
          ]
        }
      ]
    }
  ]
}